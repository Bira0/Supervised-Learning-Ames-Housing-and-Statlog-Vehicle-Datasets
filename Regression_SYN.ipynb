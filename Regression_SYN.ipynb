{
  "nbformat": 4,
  "nbformat_minor": 0,
  "metadata": {
    "colab": {
      "provenance": [],
      "collapsed_sections": [
        "DnHFmFTMiLrg",
        "pRvWsPEPtsfz",
        "XSMz1gjWt_ZD",
        "Uy0JerWnuH8C"
      ]
    },
    "kernelspec": {
      "name": "python3",
      "display_name": "Python 3"
    },
    "language_info": {
      "name": "python"
    }
  },
  "cells": [
    {
      "cell_type": "markdown",
      "source": [
        "Kaggle description of the AmesHousing.csv Dataset\n",
        "\n",
        "\n",
        "* Number of Instances: The dataset consists of 2,930 instances or observations.\n",
        "* Number of Features: There are 79 different features or variables that describe various aspects of the residential properties.\n",
        "* Target Variable: The target variable in the dataset is the \"SalePrice,\" representing the sale price of the houses.\n",
        "* Data Types: The features include both\n",
        "numerical and categorical variables, covering a wide range of aspects such as lot size, number of rooms, location, construction, and more."
      ],
      "metadata": {
        "id": "GBrrHQrfmX1F"
      }
    },
    {
      "cell_type": "markdown",
      "source": [
        "# **Dataset Inspection and Visualization**"
      ],
      "metadata": {
        "id": "DnHFmFTMiLrg"
      }
    },
    {
      "cell_type": "markdown",
      "source": [
        "##**loading the data**"
      ],
      "metadata": {
        "id": "pRvWsPEPtsfz"
      }
    },
    {
      "cell_type": "code",
      "execution_count": null,
      "metadata": {
        "id": "TQ_75J5_d0j-"
      },
      "outputs": [],
      "source": [
        "import numpy as np\n",
        "import pandas as pd\n",
        "import matplotlib.pyplot as plt"
      ]
    },
    {
      "cell_type": "code",
      "source": [
        "#syn our dataset (saif & yahya & naseem)\n",
        "syn = pd.read_csv('AmesHousing.csv')\n",
        "\n",
        "#Dataset Preview (First 10 rows)\n",
        "syn.head(10)"
      ],
      "metadata": {
        "colab": {
          "base_uri": "https://localhost:8080/",
          "height": 429
        },
        "id": "XmvSqsT2RlnJ",
        "outputId": "7f41ee63-7c8a-430d-9795-56e70cbcee8e"
      },
      "execution_count": null,
      "outputs": [
        {
          "output_type": "execute_result",
          "data": {
            "text/plain": [
              "   Order        PID  MS SubClass MS Zoning  Lot Frontage  Lot Area Street  \\\n",
              "0      1  526301100           20        RL         141.0     31770   Pave   \n",
              "1      2  526350040           20        RH          80.0     11622   Pave   \n",
              "2      3  526351010           20        RL          81.0     14267   Pave   \n",
              "3      4  526353030           20        RL          93.0     11160   Pave   \n",
              "4      5  527105010           60        RL          74.0     13830   Pave   \n",
              "5      6  527105030           60        RL          78.0      9978   Pave   \n",
              "6      7  527127150          120        RL          41.0      4920   Pave   \n",
              "7      8  527145080          120        RL          43.0      5005   Pave   \n",
              "8      9  527146030          120        RL          39.0      5389   Pave   \n",
              "9     10  527162130           60        RL          60.0      7500   Pave   \n",
              "\n",
              "  Alley Lot Shape Land Contour  ... Pool Area Pool QC  Fence Misc Feature  \\\n",
              "0   NaN       IR1          Lvl  ...         0     NaN    NaN          NaN   \n",
              "1   NaN       Reg          Lvl  ...         0     NaN  MnPrv          NaN   \n",
              "2   NaN       IR1          Lvl  ...         0     NaN    NaN         Gar2   \n",
              "3   NaN       Reg          Lvl  ...         0     NaN    NaN          NaN   \n",
              "4   NaN       IR1          Lvl  ...         0     NaN  MnPrv          NaN   \n",
              "5   NaN       IR1          Lvl  ...         0     NaN    NaN          NaN   \n",
              "6   NaN       Reg          Lvl  ...         0     NaN    NaN          NaN   \n",
              "7   NaN       IR1          HLS  ...         0     NaN    NaN          NaN   \n",
              "8   NaN       IR1          Lvl  ...         0     NaN    NaN          NaN   \n",
              "9   NaN       Reg          Lvl  ...         0     NaN    NaN          NaN   \n",
              "\n",
              "  Misc Val Mo Sold Yr Sold Sale Type  Sale Condition  SalePrice  \n",
              "0        0       5    2010       WD           Normal     215000  \n",
              "1        0       6    2010       WD           Normal     105000  \n",
              "2    12500       6    2010       WD           Normal     172000  \n",
              "3        0       4    2010       WD           Normal     244000  \n",
              "4        0       3    2010       WD           Normal     189900  \n",
              "5        0       6    2010       WD           Normal     195500  \n",
              "6        0       4    2010       WD           Normal     213500  \n",
              "7        0       1    2010       WD           Normal     191500  \n",
              "8        0       3    2010       WD           Normal     236500  \n",
              "9        0       6    2010       WD           Normal     189000  \n",
              "\n",
              "[10 rows x 82 columns]"
            ],
            "text/html": [
              "\n",
              "  <div id=\"df-13477815-14af-41e8-b32d-16089913ef66\" class=\"colab-df-container\">\n",
              "    <div>\n",
              "<style scoped>\n",
              "    .dataframe tbody tr th:only-of-type {\n",
              "        vertical-align: middle;\n",
              "    }\n",
              "\n",
              "    .dataframe tbody tr th {\n",
              "        vertical-align: top;\n",
              "    }\n",
              "\n",
              "    .dataframe thead th {\n",
              "        text-align: right;\n",
              "    }\n",
              "</style>\n",
              "<table border=\"1\" class=\"dataframe\">\n",
              "  <thead>\n",
              "    <tr style=\"text-align: right;\">\n",
              "      <th></th>\n",
              "      <th>Order</th>\n",
              "      <th>PID</th>\n",
              "      <th>MS SubClass</th>\n",
              "      <th>MS Zoning</th>\n",
              "      <th>Lot Frontage</th>\n",
              "      <th>Lot Area</th>\n",
              "      <th>Street</th>\n",
              "      <th>Alley</th>\n",
              "      <th>Lot Shape</th>\n",
              "      <th>Land Contour</th>\n",
              "      <th>...</th>\n",
              "      <th>Pool Area</th>\n",
              "      <th>Pool QC</th>\n",
              "      <th>Fence</th>\n",
              "      <th>Misc Feature</th>\n",
              "      <th>Misc Val</th>\n",
              "      <th>Mo Sold</th>\n",
              "      <th>Yr Sold</th>\n",
              "      <th>Sale Type</th>\n",
              "      <th>Sale Condition</th>\n",
              "      <th>SalePrice</th>\n",
              "    </tr>\n",
              "  </thead>\n",
              "  <tbody>\n",
              "    <tr>\n",
              "      <th>0</th>\n",
              "      <td>1</td>\n",
              "      <td>526301100</td>\n",
              "      <td>20</td>\n",
              "      <td>RL</td>\n",
              "      <td>141.0</td>\n",
              "      <td>31770</td>\n",
              "      <td>Pave</td>\n",
              "      <td>NaN</td>\n",
              "      <td>IR1</td>\n",
              "      <td>Lvl</td>\n",
              "      <td>...</td>\n",
              "      <td>0</td>\n",
              "      <td>NaN</td>\n",
              "      <td>NaN</td>\n",
              "      <td>NaN</td>\n",
              "      <td>0</td>\n",
              "      <td>5</td>\n",
              "      <td>2010</td>\n",
              "      <td>WD</td>\n",
              "      <td>Normal</td>\n",
              "      <td>215000</td>\n",
              "    </tr>\n",
              "    <tr>\n",
              "      <th>1</th>\n",
              "      <td>2</td>\n",
              "      <td>526350040</td>\n",
              "      <td>20</td>\n",
              "      <td>RH</td>\n",
              "      <td>80.0</td>\n",
              "      <td>11622</td>\n",
              "      <td>Pave</td>\n",
              "      <td>NaN</td>\n",
              "      <td>Reg</td>\n",
              "      <td>Lvl</td>\n",
              "      <td>...</td>\n",
              "      <td>0</td>\n",
              "      <td>NaN</td>\n",
              "      <td>MnPrv</td>\n",
              "      <td>NaN</td>\n",
              "      <td>0</td>\n",
              "      <td>6</td>\n",
              "      <td>2010</td>\n",
              "      <td>WD</td>\n",
              "      <td>Normal</td>\n",
              "      <td>105000</td>\n",
              "    </tr>\n",
              "    <tr>\n",
              "      <th>2</th>\n",
              "      <td>3</td>\n",
              "      <td>526351010</td>\n",
              "      <td>20</td>\n",
              "      <td>RL</td>\n",
              "      <td>81.0</td>\n",
              "      <td>14267</td>\n",
              "      <td>Pave</td>\n",
              "      <td>NaN</td>\n",
              "      <td>IR1</td>\n",
              "      <td>Lvl</td>\n",
              "      <td>...</td>\n",
              "      <td>0</td>\n",
              "      <td>NaN</td>\n",
              "      <td>NaN</td>\n",
              "      <td>Gar2</td>\n",
              "      <td>12500</td>\n",
              "      <td>6</td>\n",
              "      <td>2010</td>\n",
              "      <td>WD</td>\n",
              "      <td>Normal</td>\n",
              "      <td>172000</td>\n",
              "    </tr>\n",
              "    <tr>\n",
              "      <th>3</th>\n",
              "      <td>4</td>\n",
              "      <td>526353030</td>\n",
              "      <td>20</td>\n",
              "      <td>RL</td>\n",
              "      <td>93.0</td>\n",
              "      <td>11160</td>\n",
              "      <td>Pave</td>\n",
              "      <td>NaN</td>\n",
              "      <td>Reg</td>\n",
              "      <td>Lvl</td>\n",
              "      <td>...</td>\n",
              "      <td>0</td>\n",
              "      <td>NaN</td>\n",
              "      <td>NaN</td>\n",
              "      <td>NaN</td>\n",
              "      <td>0</td>\n",
              "      <td>4</td>\n",
              "      <td>2010</td>\n",
              "      <td>WD</td>\n",
              "      <td>Normal</td>\n",
              "      <td>244000</td>\n",
              "    </tr>\n",
              "    <tr>\n",
              "      <th>4</th>\n",
              "      <td>5</td>\n",
              "      <td>527105010</td>\n",
              "      <td>60</td>\n",
              "      <td>RL</td>\n",
              "      <td>74.0</td>\n",
              "      <td>13830</td>\n",
              "      <td>Pave</td>\n",
              "      <td>NaN</td>\n",
              "      <td>IR1</td>\n",
              "      <td>Lvl</td>\n",
              "      <td>...</td>\n",
              "      <td>0</td>\n",
              "      <td>NaN</td>\n",
              "      <td>MnPrv</td>\n",
              "      <td>NaN</td>\n",
              "      <td>0</td>\n",
              "      <td>3</td>\n",
              "      <td>2010</td>\n",
              "      <td>WD</td>\n",
              "      <td>Normal</td>\n",
              "      <td>189900</td>\n",
              "    </tr>\n",
              "    <tr>\n",
              "      <th>5</th>\n",
              "      <td>6</td>\n",
              "      <td>527105030</td>\n",
              "      <td>60</td>\n",
              "      <td>RL</td>\n",
              "      <td>78.0</td>\n",
              "      <td>9978</td>\n",
              "      <td>Pave</td>\n",
              "      <td>NaN</td>\n",
              "      <td>IR1</td>\n",
              "      <td>Lvl</td>\n",
              "      <td>...</td>\n",
              "      <td>0</td>\n",
              "      <td>NaN</td>\n",
              "      <td>NaN</td>\n",
              "      <td>NaN</td>\n",
              "      <td>0</td>\n",
              "      <td>6</td>\n",
              "      <td>2010</td>\n",
              "      <td>WD</td>\n",
              "      <td>Normal</td>\n",
              "      <td>195500</td>\n",
              "    </tr>\n",
              "    <tr>\n",
              "      <th>6</th>\n",
              "      <td>7</td>\n",
              "      <td>527127150</td>\n",
              "      <td>120</td>\n",
              "      <td>RL</td>\n",
              "      <td>41.0</td>\n",
              "      <td>4920</td>\n",
              "      <td>Pave</td>\n",
              "      <td>NaN</td>\n",
              "      <td>Reg</td>\n",
              "      <td>Lvl</td>\n",
              "      <td>...</td>\n",
              "      <td>0</td>\n",
              "      <td>NaN</td>\n",
              "      <td>NaN</td>\n",
              "      <td>NaN</td>\n",
              "      <td>0</td>\n",
              "      <td>4</td>\n",
              "      <td>2010</td>\n",
              "      <td>WD</td>\n",
              "      <td>Normal</td>\n",
              "      <td>213500</td>\n",
              "    </tr>\n",
              "    <tr>\n",
              "      <th>7</th>\n",
              "      <td>8</td>\n",
              "      <td>527145080</td>\n",
              "      <td>120</td>\n",
              "      <td>RL</td>\n",
              "      <td>43.0</td>\n",
              "      <td>5005</td>\n",
              "      <td>Pave</td>\n",
              "      <td>NaN</td>\n",
              "      <td>IR1</td>\n",
              "      <td>HLS</td>\n",
              "      <td>...</td>\n",
              "      <td>0</td>\n",
              "      <td>NaN</td>\n",
              "      <td>NaN</td>\n",
              "      <td>NaN</td>\n",
              "      <td>0</td>\n",
              "      <td>1</td>\n",
              "      <td>2010</td>\n",
              "      <td>WD</td>\n",
              "      <td>Normal</td>\n",
              "      <td>191500</td>\n",
              "    </tr>\n",
              "    <tr>\n",
              "      <th>8</th>\n",
              "      <td>9</td>\n",
              "      <td>527146030</td>\n",
              "      <td>120</td>\n",
              "      <td>RL</td>\n",
              "      <td>39.0</td>\n",
              "      <td>5389</td>\n",
              "      <td>Pave</td>\n",
              "      <td>NaN</td>\n",
              "      <td>IR1</td>\n",
              "      <td>Lvl</td>\n",
              "      <td>...</td>\n",
              "      <td>0</td>\n",
              "      <td>NaN</td>\n",
              "      <td>NaN</td>\n",
              "      <td>NaN</td>\n",
              "      <td>0</td>\n",
              "      <td>3</td>\n",
              "      <td>2010</td>\n",
              "      <td>WD</td>\n",
              "      <td>Normal</td>\n",
              "      <td>236500</td>\n",
              "    </tr>\n",
              "    <tr>\n",
              "      <th>9</th>\n",
              "      <td>10</td>\n",
              "      <td>527162130</td>\n",
              "      <td>60</td>\n",
              "      <td>RL</td>\n",
              "      <td>60.0</td>\n",
              "      <td>7500</td>\n",
              "      <td>Pave</td>\n",
              "      <td>NaN</td>\n",
              "      <td>Reg</td>\n",
              "      <td>Lvl</td>\n",
              "      <td>...</td>\n",
              "      <td>0</td>\n",
              "      <td>NaN</td>\n",
              "      <td>NaN</td>\n",
              "      <td>NaN</td>\n",
              "      <td>0</td>\n",
              "      <td>6</td>\n",
              "      <td>2010</td>\n",
              "      <td>WD</td>\n",
              "      <td>Normal</td>\n",
              "      <td>189000</td>\n",
              "    </tr>\n",
              "  </tbody>\n",
              "</table>\n",
              "<p>10 rows × 82 columns</p>\n",
              "</div>\n",
              "    <div class=\"colab-df-buttons\">\n",
              "\n",
              "  <div class=\"colab-df-container\">\n",
              "    <button class=\"colab-df-convert\" onclick=\"convertToInteractive('df-13477815-14af-41e8-b32d-16089913ef66')\"\n",
              "            title=\"Convert this dataframe to an interactive table.\"\n",
              "            style=\"display:none;\">\n",
              "\n",
              "  <svg xmlns=\"http://www.w3.org/2000/svg\" height=\"24px\" viewBox=\"0 -960 960 960\">\n",
              "    <path d=\"M120-120v-720h720v720H120Zm60-500h600v-160H180v160Zm220 220h160v-160H400v160Zm0 220h160v-160H400v160ZM180-400h160v-160H180v160Zm440 0h160v-160H620v160ZM180-180h160v-160H180v160Zm440 0h160v-160H620v160Z\"/>\n",
              "  </svg>\n",
              "    </button>\n",
              "\n",
              "  <style>\n",
              "    .colab-df-container {\n",
              "      display:flex;\n",
              "      gap: 12px;\n",
              "    }\n",
              "\n",
              "    .colab-df-convert {\n",
              "      background-color: #E8F0FE;\n",
              "      border: none;\n",
              "      border-radius: 50%;\n",
              "      cursor: pointer;\n",
              "      display: none;\n",
              "      fill: #1967D2;\n",
              "      height: 32px;\n",
              "      padding: 0 0 0 0;\n",
              "      width: 32px;\n",
              "    }\n",
              "\n",
              "    .colab-df-convert:hover {\n",
              "      background-color: #E2EBFA;\n",
              "      box-shadow: 0px 1px 2px rgba(60, 64, 67, 0.3), 0px 1px 3px 1px rgba(60, 64, 67, 0.15);\n",
              "      fill: #174EA6;\n",
              "    }\n",
              "\n",
              "    .colab-df-buttons div {\n",
              "      margin-bottom: 4px;\n",
              "    }\n",
              "\n",
              "    [theme=dark] .colab-df-convert {\n",
              "      background-color: #3B4455;\n",
              "      fill: #D2E3FC;\n",
              "    }\n",
              "\n",
              "    [theme=dark] .colab-df-convert:hover {\n",
              "      background-color: #434B5C;\n",
              "      box-shadow: 0px 1px 3px 1px rgba(0, 0, 0, 0.15);\n",
              "      filter: drop-shadow(0px 1px 2px rgba(0, 0, 0, 0.3));\n",
              "      fill: #FFFFFF;\n",
              "    }\n",
              "  </style>\n",
              "\n",
              "    <script>\n",
              "      const buttonEl =\n",
              "        document.querySelector('#df-13477815-14af-41e8-b32d-16089913ef66 button.colab-df-convert');\n",
              "      buttonEl.style.display =\n",
              "        google.colab.kernel.accessAllowed ? 'block' : 'none';\n",
              "\n",
              "      async function convertToInteractive(key) {\n",
              "        const element = document.querySelector('#df-13477815-14af-41e8-b32d-16089913ef66');\n",
              "        const dataTable =\n",
              "          await google.colab.kernel.invokeFunction('convertToInteractive',\n",
              "                                                    [key], {});\n",
              "        if (!dataTable) return;\n",
              "\n",
              "        const docLinkHtml = 'Like what you see? Visit the ' +\n",
              "          '<a target=\"_blank\" href=https://colab.research.google.com/notebooks/data_table.ipynb>data table notebook</a>'\n",
              "          + ' to learn more about interactive tables.';\n",
              "        element.innerHTML = '';\n",
              "        dataTable['output_type'] = 'display_data';\n",
              "        await google.colab.output.renderOutput(dataTable, element);\n",
              "        const docLink = document.createElement('div');\n",
              "        docLink.innerHTML = docLinkHtml;\n",
              "        element.appendChild(docLink);\n",
              "      }\n",
              "    </script>\n",
              "  </div>\n",
              "\n",
              "\n",
              "<div id=\"df-5bea1cea-8694-45ab-9006-d067439cbc62\">\n",
              "  <button class=\"colab-df-quickchart\" onclick=\"quickchart('df-5bea1cea-8694-45ab-9006-d067439cbc62')\"\n",
              "            title=\"Suggest charts\"\n",
              "            style=\"display:none;\">\n",
              "\n",
              "<svg xmlns=\"http://www.w3.org/2000/svg\" height=\"24px\"viewBox=\"0 0 24 24\"\n",
              "     width=\"24px\">\n",
              "    <g>\n",
              "        <path d=\"M19 3H5c-1.1 0-2 .9-2 2v14c0 1.1.9 2 2 2h14c1.1 0 2-.9 2-2V5c0-1.1-.9-2-2-2zM9 17H7v-7h2v7zm4 0h-2V7h2v10zm4 0h-2v-4h2v4z\"/>\n",
              "    </g>\n",
              "</svg>\n",
              "  </button>\n",
              "\n",
              "<style>\n",
              "  .colab-df-quickchart {\n",
              "      --bg-color: #E8F0FE;\n",
              "      --fill-color: #1967D2;\n",
              "      --hover-bg-color: #E2EBFA;\n",
              "      --hover-fill-color: #174EA6;\n",
              "      --disabled-fill-color: #AAA;\n",
              "      --disabled-bg-color: #DDD;\n",
              "  }\n",
              "\n",
              "  [theme=dark] .colab-df-quickchart {\n",
              "      --bg-color: #3B4455;\n",
              "      --fill-color: #D2E3FC;\n",
              "      --hover-bg-color: #434B5C;\n",
              "      --hover-fill-color: #FFFFFF;\n",
              "      --disabled-bg-color: #3B4455;\n",
              "      --disabled-fill-color: #666;\n",
              "  }\n",
              "\n",
              "  .colab-df-quickchart {\n",
              "    background-color: var(--bg-color);\n",
              "    border: none;\n",
              "    border-radius: 50%;\n",
              "    cursor: pointer;\n",
              "    display: none;\n",
              "    fill: var(--fill-color);\n",
              "    height: 32px;\n",
              "    padding: 0;\n",
              "    width: 32px;\n",
              "  }\n",
              "\n",
              "  .colab-df-quickchart:hover {\n",
              "    background-color: var(--hover-bg-color);\n",
              "    box-shadow: 0 1px 2px rgba(60, 64, 67, 0.3), 0 1px 3px 1px rgba(60, 64, 67, 0.15);\n",
              "    fill: var(--button-hover-fill-color);\n",
              "  }\n",
              "\n",
              "  .colab-df-quickchart-complete:disabled,\n",
              "  .colab-df-quickchart-complete:disabled:hover {\n",
              "    background-color: var(--disabled-bg-color);\n",
              "    fill: var(--disabled-fill-color);\n",
              "    box-shadow: none;\n",
              "  }\n",
              "\n",
              "  .colab-df-spinner {\n",
              "    border: 2px solid var(--fill-color);\n",
              "    border-color: transparent;\n",
              "    border-bottom-color: var(--fill-color);\n",
              "    animation:\n",
              "      spin 1s steps(1) infinite;\n",
              "  }\n",
              "\n",
              "  @keyframes spin {\n",
              "    0% {\n",
              "      border-color: transparent;\n",
              "      border-bottom-color: var(--fill-color);\n",
              "      border-left-color: var(--fill-color);\n",
              "    }\n",
              "    20% {\n",
              "      border-color: transparent;\n",
              "      border-left-color: var(--fill-color);\n",
              "      border-top-color: var(--fill-color);\n",
              "    }\n",
              "    30% {\n",
              "      border-color: transparent;\n",
              "      border-left-color: var(--fill-color);\n",
              "      border-top-color: var(--fill-color);\n",
              "      border-right-color: var(--fill-color);\n",
              "    }\n",
              "    40% {\n",
              "      border-color: transparent;\n",
              "      border-right-color: var(--fill-color);\n",
              "      border-top-color: var(--fill-color);\n",
              "    }\n",
              "    60% {\n",
              "      border-color: transparent;\n",
              "      border-right-color: var(--fill-color);\n",
              "    }\n",
              "    80% {\n",
              "      border-color: transparent;\n",
              "      border-right-color: var(--fill-color);\n",
              "      border-bottom-color: var(--fill-color);\n",
              "    }\n",
              "    90% {\n",
              "      border-color: transparent;\n",
              "      border-bottom-color: var(--fill-color);\n",
              "    }\n",
              "  }\n",
              "</style>\n",
              "\n",
              "  <script>\n",
              "    async function quickchart(key) {\n",
              "      const quickchartButtonEl =\n",
              "        document.querySelector('#' + key + ' button');\n",
              "      quickchartButtonEl.disabled = true;  // To prevent multiple clicks.\n",
              "      quickchartButtonEl.classList.add('colab-df-spinner');\n",
              "      try {\n",
              "        const charts = await google.colab.kernel.invokeFunction(\n",
              "            'suggestCharts', [key], {});\n",
              "      } catch (error) {\n",
              "        console.error('Error during call to suggestCharts:', error);\n",
              "      }\n",
              "      quickchartButtonEl.classList.remove('colab-df-spinner');\n",
              "      quickchartButtonEl.classList.add('colab-df-quickchart-complete');\n",
              "    }\n",
              "    (() => {\n",
              "      let quickchartButtonEl =\n",
              "        document.querySelector('#df-5bea1cea-8694-45ab-9006-d067439cbc62 button');\n",
              "      quickchartButtonEl.style.display =\n",
              "        google.colab.kernel.accessAllowed ? 'block' : 'none';\n",
              "    })();\n",
              "  </script>\n",
              "</div>\n",
              "\n",
              "    </div>\n",
              "  </div>\n"
            ],
            "application/vnd.google.colaboratory.intrinsic+json": {
              "type": "dataframe",
              "variable_name": "syn"
            }
          },
          "metadata": {},
          "execution_count": 78
        }
      ]
    },
    {
      "cell_type": "code",
      "source": [
        "#Dataset information\n",
        "syn.info()"
      ],
      "metadata": {
        "colab": {
          "base_uri": "https://localhost:8080/"
        },
        "id": "HEZGPsZ7jfTI",
        "outputId": "ec9c690c-201b-4fcc-c8ce-3addaa0a2cb1",
        "collapsed": true
      },
      "execution_count": null,
      "outputs": [
        {
          "output_type": "stream",
          "name": "stdout",
          "text": [
            "<class 'pandas.core.frame.DataFrame'>\n",
            "RangeIndex: 2930 entries, 0 to 2929\n",
            "Data columns (total 82 columns):\n",
            " #   Column           Non-Null Count  Dtype  \n",
            "---  ------           --------------  -----  \n",
            " 0   Order            2930 non-null   int64  \n",
            " 1   PID              2930 non-null   int64  \n",
            " 2   MS SubClass      2930 non-null   int64  \n",
            " 3   MS Zoning        2930 non-null   object \n",
            " 4   Lot Frontage     2440 non-null   float64\n",
            " 5   Lot Area         2930 non-null   int64  \n",
            " 6   Street           2930 non-null   object \n",
            " 7   Alley            198 non-null    object \n",
            " 8   Lot Shape        2930 non-null   object \n",
            " 9   Land Contour     2930 non-null   object \n",
            " 10  Utilities        2930 non-null   object \n",
            " 11  Lot Config       2930 non-null   object \n",
            " 12  Land Slope       2930 non-null   object \n",
            " 13  Neighborhood     2930 non-null   object \n",
            " 14  Condition 1      2930 non-null   object \n",
            " 15  Condition 2      2930 non-null   object \n",
            " 16  Bldg Type        2930 non-null   object \n",
            " 17  House Style      2930 non-null   object \n",
            " 18  Overall Qual     2930 non-null   int64  \n",
            " 19  Overall Cond     2930 non-null   int64  \n",
            " 20  Year Built       2930 non-null   int64  \n",
            " 21  Year Remod/Add   2930 non-null   int64  \n",
            " 22  Roof Style       2930 non-null   object \n",
            " 23  Roof Matl        2930 non-null   object \n",
            " 24  Exterior 1st     2930 non-null   object \n",
            " 25  Exterior 2nd     2930 non-null   object \n",
            " 26  Mas Vnr Type     1155 non-null   object \n",
            " 27  Mas Vnr Area     2907 non-null   float64\n",
            " 28  Exter Qual       2930 non-null   object \n",
            " 29  Exter Cond       2930 non-null   object \n",
            " 30  Foundation       2930 non-null   object \n",
            " 31  Bsmt Qual        2850 non-null   object \n",
            " 32  Bsmt Cond        2850 non-null   object \n",
            " 33  Bsmt Exposure    2847 non-null   object \n",
            " 34  BsmtFin Type 1   2850 non-null   object \n",
            " 35  BsmtFin SF 1     2929 non-null   float64\n",
            " 36  BsmtFin Type 2   2849 non-null   object \n",
            " 37  BsmtFin SF 2     2929 non-null   float64\n",
            " 38  Bsmt Unf SF      2929 non-null   float64\n",
            " 39  Total Bsmt SF    2929 non-null   float64\n",
            " 40  Heating          2930 non-null   object \n",
            " 41  Heating QC       2930 non-null   object \n",
            " 42  Central Air      2930 non-null   object \n",
            " 43  Electrical       2929 non-null   object \n",
            " 44  1st Flr SF       2930 non-null   int64  \n",
            " 45  2nd Flr SF       2930 non-null   int64  \n",
            " 46  Low Qual Fin SF  2930 non-null   int64  \n",
            " 47  Gr Liv Area      2930 non-null   int64  \n",
            " 48  Bsmt Full Bath   2928 non-null   float64\n",
            " 49  Bsmt Half Bath   2928 non-null   float64\n",
            " 50  Full Bath        2930 non-null   int64  \n",
            " 51  Half Bath        2930 non-null   int64  \n",
            " 52  Bedroom AbvGr    2930 non-null   int64  \n",
            " 53  Kitchen AbvGr    2930 non-null   int64  \n",
            " 54  Kitchen Qual     2930 non-null   object \n",
            " 55  TotRms AbvGrd    2930 non-null   int64  \n",
            " 56  Functional       2930 non-null   object \n",
            " 57  Fireplaces       2930 non-null   int64  \n",
            " 58  Fireplace Qu     1508 non-null   object \n",
            " 59  Garage Type      2773 non-null   object \n",
            " 60  Garage Yr Blt    2771 non-null   float64\n",
            " 61  Garage Finish    2771 non-null   object \n",
            " 62  Garage Cars      2929 non-null   float64\n",
            " 63  Garage Area      2929 non-null   float64\n",
            " 64  Garage Qual      2771 non-null   object \n",
            " 65  Garage Cond      2771 non-null   object \n",
            " 66  Paved Drive      2930 non-null   object \n",
            " 67  Wood Deck SF     2930 non-null   int64  \n",
            " 68  Open Porch SF    2930 non-null   int64  \n",
            " 69  Enclosed Porch   2930 non-null   int64  \n",
            " 70  3Ssn Porch       2930 non-null   int64  \n",
            " 71  Screen Porch     2930 non-null   int64  \n",
            " 72  Pool Area        2930 non-null   int64  \n",
            " 73  Pool QC          13 non-null     object \n",
            " 74  Fence            572 non-null    object \n",
            " 75  Misc Feature     106 non-null    object \n",
            " 76  Misc Val         2930 non-null   int64  \n",
            " 77  Mo Sold          2930 non-null   int64  \n",
            " 78  Yr Sold          2930 non-null   int64  \n",
            " 79  Sale Type        2930 non-null   object \n",
            " 80  Sale Condition   2930 non-null   object \n",
            " 81  SalePrice        2930 non-null   int64  \n",
            "dtypes: float64(11), int64(28), object(43)\n",
            "memory usage: 1.8+ MB\n"
          ]
        }
      ]
    },
    {
      "cell_type": "code",
      "source": [
        "#Summary statistics\n",
        "syn.describe()"
      ],
      "metadata": {
        "colab": {
          "base_uri": "https://localhost:8080/",
          "height": 367
        },
        "id": "cm0TTH2OjjPI",
        "outputId": "c7b8eb4d-310f-4a7c-d583-aec20b9bc073"
      },
      "execution_count": null,
      "outputs": [
        {
          "output_type": "execute_result",
          "data": {
            "text/plain": [
              "            Order           PID  MS SubClass  Lot Frontage       Lot Area  \\\n",
              "count  2930.00000  2.930000e+03  2930.000000   2440.000000    2930.000000   \n",
              "mean   1465.50000  7.144645e+08    57.387372     69.224590   10147.921843   \n",
              "std     845.96247  1.887308e+08    42.638025     23.365335    7880.017759   \n",
              "min       1.00000  5.263011e+08    20.000000     21.000000    1300.000000   \n",
              "25%     733.25000  5.284770e+08    20.000000     58.000000    7440.250000   \n",
              "50%    1465.50000  5.354536e+08    50.000000     68.000000    9436.500000   \n",
              "75%    2197.75000  9.071811e+08    70.000000     80.000000   11555.250000   \n",
              "max    2930.00000  1.007100e+09   190.000000    313.000000  215245.000000   \n",
              "\n",
              "       Overall Qual  Overall Cond   Year Built  Year Remod/Add  Mas Vnr Area  \\\n",
              "count   2930.000000   2930.000000  2930.000000     2930.000000   2907.000000   \n",
              "mean       6.094881      5.563140  1971.356314     1984.266553    101.896801   \n",
              "std        1.411026      1.111537    30.245361       20.860286    179.112611   \n",
              "min        1.000000      1.000000  1872.000000     1950.000000      0.000000   \n",
              "25%        5.000000      5.000000  1954.000000     1965.000000      0.000000   \n",
              "50%        6.000000      5.000000  1973.000000     1993.000000      0.000000   \n",
              "75%        7.000000      6.000000  2001.000000     2004.000000    164.000000   \n",
              "max       10.000000      9.000000  2010.000000     2010.000000   1600.000000   \n",
              "\n",
              "       ...  Wood Deck SF  Open Porch SF  Enclosed Porch   3Ssn Porch  \\\n",
              "count  ...   2930.000000    2930.000000     2930.000000  2930.000000   \n",
              "mean   ...     93.751877      47.533447       23.011604     2.592491   \n",
              "std    ...    126.361562      67.483400       64.139059    25.141331   \n",
              "min    ...      0.000000       0.000000        0.000000     0.000000   \n",
              "25%    ...      0.000000       0.000000        0.000000     0.000000   \n",
              "50%    ...      0.000000      27.000000        0.000000     0.000000   \n",
              "75%    ...    168.000000      70.000000        0.000000     0.000000   \n",
              "max    ...   1424.000000     742.000000     1012.000000   508.000000   \n",
              "\n",
              "       Screen Porch    Pool Area      Misc Val      Mo Sold      Yr Sold  \\\n",
              "count   2930.000000  2930.000000   2930.000000  2930.000000  2930.000000   \n",
              "mean      16.002048     2.243345     50.635154     6.216041  2007.790444   \n",
              "std       56.087370    35.597181    566.344288     2.714492     1.316613   \n",
              "min        0.000000     0.000000      0.000000     1.000000  2006.000000   \n",
              "25%        0.000000     0.000000      0.000000     4.000000  2007.000000   \n",
              "50%        0.000000     0.000000      0.000000     6.000000  2008.000000   \n",
              "75%        0.000000     0.000000      0.000000     8.000000  2009.000000   \n",
              "max      576.000000   800.000000  17000.000000    12.000000  2010.000000   \n",
              "\n",
              "           SalePrice  \n",
              "count    2930.000000  \n",
              "mean   180796.060068  \n",
              "std     79886.692357  \n",
              "min     12789.000000  \n",
              "25%    129500.000000  \n",
              "50%    160000.000000  \n",
              "75%    213500.000000  \n",
              "max    755000.000000  \n",
              "\n",
              "[8 rows x 39 columns]"
            ],
            "text/html": [
              "\n",
              "  <div id=\"df-12a3d3eb-6246-4825-81a7-a8d25cb232cf\" class=\"colab-df-container\">\n",
              "    <div>\n",
              "<style scoped>\n",
              "    .dataframe tbody tr th:only-of-type {\n",
              "        vertical-align: middle;\n",
              "    }\n",
              "\n",
              "    .dataframe tbody tr th {\n",
              "        vertical-align: top;\n",
              "    }\n",
              "\n",
              "    .dataframe thead th {\n",
              "        text-align: right;\n",
              "    }\n",
              "</style>\n",
              "<table border=\"1\" class=\"dataframe\">\n",
              "  <thead>\n",
              "    <tr style=\"text-align: right;\">\n",
              "      <th></th>\n",
              "      <th>Order</th>\n",
              "      <th>PID</th>\n",
              "      <th>MS SubClass</th>\n",
              "      <th>Lot Frontage</th>\n",
              "      <th>Lot Area</th>\n",
              "      <th>Overall Qual</th>\n",
              "      <th>Overall Cond</th>\n",
              "      <th>Year Built</th>\n",
              "      <th>Year Remod/Add</th>\n",
              "      <th>Mas Vnr Area</th>\n",
              "      <th>...</th>\n",
              "      <th>Wood Deck SF</th>\n",
              "      <th>Open Porch SF</th>\n",
              "      <th>Enclosed Porch</th>\n",
              "      <th>3Ssn Porch</th>\n",
              "      <th>Screen Porch</th>\n",
              "      <th>Pool Area</th>\n",
              "      <th>Misc Val</th>\n",
              "      <th>Mo Sold</th>\n",
              "      <th>Yr Sold</th>\n",
              "      <th>SalePrice</th>\n",
              "    </tr>\n",
              "  </thead>\n",
              "  <tbody>\n",
              "    <tr>\n",
              "      <th>count</th>\n",
              "      <td>2930.00000</td>\n",
              "      <td>2.930000e+03</td>\n",
              "      <td>2930.000000</td>\n",
              "      <td>2440.000000</td>\n",
              "      <td>2930.000000</td>\n",
              "      <td>2930.000000</td>\n",
              "      <td>2930.000000</td>\n",
              "      <td>2930.000000</td>\n",
              "      <td>2930.000000</td>\n",
              "      <td>2907.000000</td>\n",
              "      <td>...</td>\n",
              "      <td>2930.000000</td>\n",
              "      <td>2930.000000</td>\n",
              "      <td>2930.000000</td>\n",
              "      <td>2930.000000</td>\n",
              "      <td>2930.000000</td>\n",
              "      <td>2930.000000</td>\n",
              "      <td>2930.000000</td>\n",
              "      <td>2930.000000</td>\n",
              "      <td>2930.000000</td>\n",
              "      <td>2930.000000</td>\n",
              "    </tr>\n",
              "    <tr>\n",
              "      <th>mean</th>\n",
              "      <td>1465.50000</td>\n",
              "      <td>7.144645e+08</td>\n",
              "      <td>57.387372</td>\n",
              "      <td>69.224590</td>\n",
              "      <td>10147.921843</td>\n",
              "      <td>6.094881</td>\n",
              "      <td>5.563140</td>\n",
              "      <td>1971.356314</td>\n",
              "      <td>1984.266553</td>\n",
              "      <td>101.896801</td>\n",
              "      <td>...</td>\n",
              "      <td>93.751877</td>\n",
              "      <td>47.533447</td>\n",
              "      <td>23.011604</td>\n",
              "      <td>2.592491</td>\n",
              "      <td>16.002048</td>\n",
              "      <td>2.243345</td>\n",
              "      <td>50.635154</td>\n",
              "      <td>6.216041</td>\n",
              "      <td>2007.790444</td>\n",
              "      <td>180796.060068</td>\n",
              "    </tr>\n",
              "    <tr>\n",
              "      <th>std</th>\n",
              "      <td>845.96247</td>\n",
              "      <td>1.887308e+08</td>\n",
              "      <td>42.638025</td>\n",
              "      <td>23.365335</td>\n",
              "      <td>7880.017759</td>\n",
              "      <td>1.411026</td>\n",
              "      <td>1.111537</td>\n",
              "      <td>30.245361</td>\n",
              "      <td>20.860286</td>\n",
              "      <td>179.112611</td>\n",
              "      <td>...</td>\n",
              "      <td>126.361562</td>\n",
              "      <td>67.483400</td>\n",
              "      <td>64.139059</td>\n",
              "      <td>25.141331</td>\n",
              "      <td>56.087370</td>\n",
              "      <td>35.597181</td>\n",
              "      <td>566.344288</td>\n",
              "      <td>2.714492</td>\n",
              "      <td>1.316613</td>\n",
              "      <td>79886.692357</td>\n",
              "    </tr>\n",
              "    <tr>\n",
              "      <th>min</th>\n",
              "      <td>1.00000</td>\n",
              "      <td>5.263011e+08</td>\n",
              "      <td>20.000000</td>\n",
              "      <td>21.000000</td>\n",
              "      <td>1300.000000</td>\n",
              "      <td>1.000000</td>\n",
              "      <td>1.000000</td>\n",
              "      <td>1872.000000</td>\n",
              "      <td>1950.000000</td>\n",
              "      <td>0.000000</td>\n",
              "      <td>...</td>\n",
              "      <td>0.000000</td>\n",
              "      <td>0.000000</td>\n",
              "      <td>0.000000</td>\n",
              "      <td>0.000000</td>\n",
              "      <td>0.000000</td>\n",
              "      <td>0.000000</td>\n",
              "      <td>0.000000</td>\n",
              "      <td>1.000000</td>\n",
              "      <td>2006.000000</td>\n",
              "      <td>12789.000000</td>\n",
              "    </tr>\n",
              "    <tr>\n",
              "      <th>25%</th>\n",
              "      <td>733.25000</td>\n",
              "      <td>5.284770e+08</td>\n",
              "      <td>20.000000</td>\n",
              "      <td>58.000000</td>\n",
              "      <td>7440.250000</td>\n",
              "      <td>5.000000</td>\n",
              "      <td>5.000000</td>\n",
              "      <td>1954.000000</td>\n",
              "      <td>1965.000000</td>\n",
              "      <td>0.000000</td>\n",
              "      <td>...</td>\n",
              "      <td>0.000000</td>\n",
              "      <td>0.000000</td>\n",
              "      <td>0.000000</td>\n",
              "      <td>0.000000</td>\n",
              "      <td>0.000000</td>\n",
              "      <td>0.000000</td>\n",
              "      <td>0.000000</td>\n",
              "      <td>4.000000</td>\n",
              "      <td>2007.000000</td>\n",
              "      <td>129500.000000</td>\n",
              "    </tr>\n",
              "    <tr>\n",
              "      <th>50%</th>\n",
              "      <td>1465.50000</td>\n",
              "      <td>5.354536e+08</td>\n",
              "      <td>50.000000</td>\n",
              "      <td>68.000000</td>\n",
              "      <td>9436.500000</td>\n",
              "      <td>6.000000</td>\n",
              "      <td>5.000000</td>\n",
              "      <td>1973.000000</td>\n",
              "      <td>1993.000000</td>\n",
              "      <td>0.000000</td>\n",
              "      <td>...</td>\n",
              "      <td>0.000000</td>\n",
              "      <td>27.000000</td>\n",
              "      <td>0.000000</td>\n",
              "      <td>0.000000</td>\n",
              "      <td>0.000000</td>\n",
              "      <td>0.000000</td>\n",
              "      <td>0.000000</td>\n",
              "      <td>6.000000</td>\n",
              "      <td>2008.000000</td>\n",
              "      <td>160000.000000</td>\n",
              "    </tr>\n",
              "    <tr>\n",
              "      <th>75%</th>\n",
              "      <td>2197.75000</td>\n",
              "      <td>9.071811e+08</td>\n",
              "      <td>70.000000</td>\n",
              "      <td>80.000000</td>\n",
              "      <td>11555.250000</td>\n",
              "      <td>7.000000</td>\n",
              "      <td>6.000000</td>\n",
              "      <td>2001.000000</td>\n",
              "      <td>2004.000000</td>\n",
              "      <td>164.000000</td>\n",
              "      <td>...</td>\n",
              "      <td>168.000000</td>\n",
              "      <td>70.000000</td>\n",
              "      <td>0.000000</td>\n",
              "      <td>0.000000</td>\n",
              "      <td>0.000000</td>\n",
              "      <td>0.000000</td>\n",
              "      <td>0.000000</td>\n",
              "      <td>8.000000</td>\n",
              "      <td>2009.000000</td>\n",
              "      <td>213500.000000</td>\n",
              "    </tr>\n",
              "    <tr>\n",
              "      <th>max</th>\n",
              "      <td>2930.00000</td>\n",
              "      <td>1.007100e+09</td>\n",
              "      <td>190.000000</td>\n",
              "      <td>313.000000</td>\n",
              "      <td>215245.000000</td>\n",
              "      <td>10.000000</td>\n",
              "      <td>9.000000</td>\n",
              "      <td>2010.000000</td>\n",
              "      <td>2010.000000</td>\n",
              "      <td>1600.000000</td>\n",
              "      <td>...</td>\n",
              "      <td>1424.000000</td>\n",
              "      <td>742.000000</td>\n",
              "      <td>1012.000000</td>\n",
              "      <td>508.000000</td>\n",
              "      <td>576.000000</td>\n",
              "      <td>800.000000</td>\n",
              "      <td>17000.000000</td>\n",
              "      <td>12.000000</td>\n",
              "      <td>2010.000000</td>\n",
              "      <td>755000.000000</td>\n",
              "    </tr>\n",
              "  </tbody>\n",
              "</table>\n",
              "<p>8 rows × 39 columns</p>\n",
              "</div>\n",
              "    <div class=\"colab-df-buttons\">\n",
              "\n",
              "  <div class=\"colab-df-container\">\n",
              "    <button class=\"colab-df-convert\" onclick=\"convertToInteractive('df-12a3d3eb-6246-4825-81a7-a8d25cb232cf')\"\n",
              "            title=\"Convert this dataframe to an interactive table.\"\n",
              "            style=\"display:none;\">\n",
              "\n",
              "  <svg xmlns=\"http://www.w3.org/2000/svg\" height=\"24px\" viewBox=\"0 -960 960 960\">\n",
              "    <path d=\"M120-120v-720h720v720H120Zm60-500h600v-160H180v160Zm220 220h160v-160H400v160Zm0 220h160v-160H400v160ZM180-400h160v-160H180v160Zm440 0h160v-160H620v160ZM180-180h160v-160H180v160Zm440 0h160v-160H620v160Z\"/>\n",
              "  </svg>\n",
              "    </button>\n",
              "\n",
              "  <style>\n",
              "    .colab-df-container {\n",
              "      display:flex;\n",
              "      gap: 12px;\n",
              "    }\n",
              "\n",
              "    .colab-df-convert {\n",
              "      background-color: #E8F0FE;\n",
              "      border: none;\n",
              "      border-radius: 50%;\n",
              "      cursor: pointer;\n",
              "      display: none;\n",
              "      fill: #1967D2;\n",
              "      height: 32px;\n",
              "      padding: 0 0 0 0;\n",
              "      width: 32px;\n",
              "    }\n",
              "\n",
              "    .colab-df-convert:hover {\n",
              "      background-color: #E2EBFA;\n",
              "      box-shadow: 0px 1px 2px rgba(60, 64, 67, 0.3), 0px 1px 3px 1px rgba(60, 64, 67, 0.15);\n",
              "      fill: #174EA6;\n",
              "    }\n",
              "\n",
              "    .colab-df-buttons div {\n",
              "      margin-bottom: 4px;\n",
              "    }\n",
              "\n",
              "    [theme=dark] .colab-df-convert {\n",
              "      background-color: #3B4455;\n",
              "      fill: #D2E3FC;\n",
              "    }\n",
              "\n",
              "    [theme=dark] .colab-df-convert:hover {\n",
              "      background-color: #434B5C;\n",
              "      box-shadow: 0px 1px 3px 1px rgba(0, 0, 0, 0.15);\n",
              "      filter: drop-shadow(0px 1px 2px rgba(0, 0, 0, 0.3));\n",
              "      fill: #FFFFFF;\n",
              "    }\n",
              "  </style>\n",
              "\n",
              "    <script>\n",
              "      const buttonEl =\n",
              "        document.querySelector('#df-12a3d3eb-6246-4825-81a7-a8d25cb232cf button.colab-df-convert');\n",
              "      buttonEl.style.display =\n",
              "        google.colab.kernel.accessAllowed ? 'block' : 'none';\n",
              "\n",
              "      async function convertToInteractive(key) {\n",
              "        const element = document.querySelector('#df-12a3d3eb-6246-4825-81a7-a8d25cb232cf');\n",
              "        const dataTable =\n",
              "          await google.colab.kernel.invokeFunction('convertToInteractive',\n",
              "                                                    [key], {});\n",
              "        if (!dataTable) return;\n",
              "\n",
              "        const docLinkHtml = 'Like what you see? Visit the ' +\n",
              "          '<a target=\"_blank\" href=https://colab.research.google.com/notebooks/data_table.ipynb>data table notebook</a>'\n",
              "          + ' to learn more about interactive tables.';\n",
              "        element.innerHTML = '';\n",
              "        dataTable['output_type'] = 'display_data';\n",
              "        await google.colab.output.renderOutput(dataTable, element);\n",
              "        const docLink = document.createElement('div');\n",
              "        docLink.innerHTML = docLinkHtml;\n",
              "        element.appendChild(docLink);\n",
              "      }\n",
              "    </script>\n",
              "  </div>\n",
              "\n",
              "\n",
              "<div id=\"df-bca1b7f8-cf74-4c68-b7f7-28a9ccf96428\">\n",
              "  <button class=\"colab-df-quickchart\" onclick=\"quickchart('df-bca1b7f8-cf74-4c68-b7f7-28a9ccf96428')\"\n",
              "            title=\"Suggest charts\"\n",
              "            style=\"display:none;\">\n",
              "\n",
              "<svg xmlns=\"http://www.w3.org/2000/svg\" height=\"24px\"viewBox=\"0 0 24 24\"\n",
              "     width=\"24px\">\n",
              "    <g>\n",
              "        <path d=\"M19 3H5c-1.1 0-2 .9-2 2v14c0 1.1.9 2 2 2h14c1.1 0 2-.9 2-2V5c0-1.1-.9-2-2-2zM9 17H7v-7h2v7zm4 0h-2V7h2v10zm4 0h-2v-4h2v4z\"/>\n",
              "    </g>\n",
              "</svg>\n",
              "  </button>\n",
              "\n",
              "<style>\n",
              "  .colab-df-quickchart {\n",
              "      --bg-color: #E8F0FE;\n",
              "      --fill-color: #1967D2;\n",
              "      --hover-bg-color: #E2EBFA;\n",
              "      --hover-fill-color: #174EA6;\n",
              "      --disabled-fill-color: #AAA;\n",
              "      --disabled-bg-color: #DDD;\n",
              "  }\n",
              "\n",
              "  [theme=dark] .colab-df-quickchart {\n",
              "      --bg-color: #3B4455;\n",
              "      --fill-color: #D2E3FC;\n",
              "      --hover-bg-color: #434B5C;\n",
              "      --hover-fill-color: #FFFFFF;\n",
              "      --disabled-bg-color: #3B4455;\n",
              "      --disabled-fill-color: #666;\n",
              "  }\n",
              "\n",
              "  .colab-df-quickchart {\n",
              "    background-color: var(--bg-color);\n",
              "    border: none;\n",
              "    border-radius: 50%;\n",
              "    cursor: pointer;\n",
              "    display: none;\n",
              "    fill: var(--fill-color);\n",
              "    height: 32px;\n",
              "    padding: 0;\n",
              "    width: 32px;\n",
              "  }\n",
              "\n",
              "  .colab-df-quickchart:hover {\n",
              "    background-color: var(--hover-bg-color);\n",
              "    box-shadow: 0 1px 2px rgba(60, 64, 67, 0.3), 0 1px 3px 1px rgba(60, 64, 67, 0.15);\n",
              "    fill: var(--button-hover-fill-color);\n",
              "  }\n",
              "\n",
              "  .colab-df-quickchart-complete:disabled,\n",
              "  .colab-df-quickchart-complete:disabled:hover {\n",
              "    background-color: var(--disabled-bg-color);\n",
              "    fill: var(--disabled-fill-color);\n",
              "    box-shadow: none;\n",
              "  }\n",
              "\n",
              "  .colab-df-spinner {\n",
              "    border: 2px solid var(--fill-color);\n",
              "    border-color: transparent;\n",
              "    border-bottom-color: var(--fill-color);\n",
              "    animation:\n",
              "      spin 1s steps(1) infinite;\n",
              "  }\n",
              "\n",
              "  @keyframes spin {\n",
              "    0% {\n",
              "      border-color: transparent;\n",
              "      border-bottom-color: var(--fill-color);\n",
              "      border-left-color: var(--fill-color);\n",
              "    }\n",
              "    20% {\n",
              "      border-color: transparent;\n",
              "      border-left-color: var(--fill-color);\n",
              "      border-top-color: var(--fill-color);\n",
              "    }\n",
              "    30% {\n",
              "      border-color: transparent;\n",
              "      border-left-color: var(--fill-color);\n",
              "      border-top-color: var(--fill-color);\n",
              "      border-right-color: var(--fill-color);\n",
              "    }\n",
              "    40% {\n",
              "      border-color: transparent;\n",
              "      border-right-color: var(--fill-color);\n",
              "      border-top-color: var(--fill-color);\n",
              "    }\n",
              "    60% {\n",
              "      border-color: transparent;\n",
              "      border-right-color: var(--fill-color);\n",
              "    }\n",
              "    80% {\n",
              "      border-color: transparent;\n",
              "      border-right-color: var(--fill-color);\n",
              "      border-bottom-color: var(--fill-color);\n",
              "    }\n",
              "    90% {\n",
              "      border-color: transparent;\n",
              "      border-bottom-color: var(--fill-color);\n",
              "    }\n",
              "  }\n",
              "</style>\n",
              "\n",
              "  <script>\n",
              "    async function quickchart(key) {\n",
              "      const quickchartButtonEl =\n",
              "        document.querySelector('#' + key + ' button');\n",
              "      quickchartButtonEl.disabled = true;  // To prevent multiple clicks.\n",
              "      quickchartButtonEl.classList.add('colab-df-spinner');\n",
              "      try {\n",
              "        const charts = await google.colab.kernel.invokeFunction(\n",
              "            'suggestCharts', [key], {});\n",
              "      } catch (error) {\n",
              "        console.error('Error during call to suggestCharts:', error);\n",
              "      }\n",
              "      quickchartButtonEl.classList.remove('colab-df-spinner');\n",
              "      quickchartButtonEl.classList.add('colab-df-quickchart-complete');\n",
              "    }\n",
              "    (() => {\n",
              "      let quickchartButtonEl =\n",
              "        document.querySelector('#df-bca1b7f8-cf74-4c68-b7f7-28a9ccf96428 button');\n",
              "      quickchartButtonEl.style.display =\n",
              "        google.colab.kernel.accessAllowed ? 'block' : 'none';\n",
              "    })();\n",
              "  </script>\n",
              "</div>\n",
              "\n",
              "    </div>\n",
              "  </div>\n"
            ],
            "application/vnd.google.colaboratory.intrinsic+json": {
              "type": "dataframe"
            }
          },
          "metadata": {},
          "execution_count": 80
        }
      ]
    },
    {
      "cell_type": "code",
      "source": [
        "#Finding out which features(Columns) have missing values\n",
        "missing_values = syn.isnull().sum()\n",
        "print(missing_values[missing_values > 0])"
      ],
      "metadata": {
        "id": "maSfv4Mug2ao",
        "colab": {
          "base_uri": "https://localhost:8080/"
        },
        "outputId": "ac9acd2e-5f03-4ded-df4e-84dc19ef3590"
      },
      "execution_count": null,
      "outputs": [
        {
          "output_type": "stream",
          "name": "stdout",
          "text": [
            "Lot Frontage       490\n",
            "Alley             2732\n",
            "Mas Vnr Type      1775\n",
            "Mas Vnr Area        23\n",
            "Bsmt Qual           80\n",
            "Bsmt Cond           80\n",
            "Bsmt Exposure       83\n",
            "BsmtFin Type 1      80\n",
            "BsmtFin SF 1         1\n",
            "BsmtFin Type 2      81\n",
            "BsmtFin SF 2         1\n",
            "Bsmt Unf SF          1\n",
            "Total Bsmt SF        1\n",
            "Electrical           1\n",
            "Bsmt Full Bath       2\n",
            "Bsmt Half Bath       2\n",
            "Fireplace Qu      1422\n",
            "Garage Type        157\n",
            "Garage Yr Blt      159\n",
            "Garage Finish      159\n",
            "Garage Cars          1\n",
            "Garage Area          1\n",
            "Garage Qual        159\n",
            "Garage Cond        159\n",
            "Pool QC           2917\n",
            "Fence             2358\n",
            "Misc Feature      2824\n",
            "dtype: int64\n"
          ]
        }
      ]
    },
    {
      "cell_type": "markdown",
      "source": [
        "##**Visualization the data**"
      ],
      "metadata": {
        "id": "XSMz1gjWt_ZD"
      }
    },
    {
      "cell_type": "code",
      "source": [
        "#Plotting the distribution of target variable 'SalePrice' using histogram to show the frequency distribution of the target variable\n",
        "\n",
        "plt.hist(syn['SalePrice'], bins=10, color='teal', edgecolor='black')\n",
        "plt.title('Distribution of SalePrice')\n",
        "plt.xlabel('SalePrice')\n",
        "plt.ylabel('Frequency')\n",
        "plt.ylim(0, 1500)\n",
        "plt.show()\n",
        "\n",
        "#Skews right (ذيل رايح لليمين)"
      ],
      "metadata": {
        "colab": {
          "base_uri": "https://localhost:8080/",
          "height": 472
        },
        "id": "Y3e8sy1fkgdN",
        "outputId": "826e23df-b891-4507-e9df-3e9199d79689"
      },
      "execution_count": null,
      "outputs": [
        {
          "output_type": "display_data",
          "data": {
            "text/plain": [
              "<Figure size 640x480 with 1 Axes>"
            ],
            "image/png": "[encoded data removed]"
          },
          "metadata": {}
        }
      ]
    },
    {
      "cell_type": "markdown",
      "source": [
        "\n",
        "\n",
        "> There is a demand for houses under $250k vs the lack of demand for luxury houses that starts from 300k and above\n",
        "\n"
      ],
      "metadata": {
        "id": "08K8eyXtqseu"
      }
    },
    {
      "cell_type": "code",
      "source": [
        "#Scatter showing distribution of feature(Year Built) by Target Variable (SalePrice)\n",
        "plt.figure(figsize=(12, 6))\n",
        "plt.scatter(syn['Year Built'], syn['SalePrice'], color='blue', alpha=0.5)\n",
        "plt.title(\"Scatter Plot of SalePrice vs. YearBuilt\", fontsize=16)\n",
        "plt.xlabel(\"Year Built\", fontsize=14)\n",
        "plt.ylabel(\"Sale Price $\", fontsize=14)\n",
        "plt.grid(alpha=0.3)\n",
        "plt.xlim(1860, 2020)\n",
        "plt.ylim(0, 800000)\n",
        "plt.show()"
      ],
      "metadata": {
        "colab": {
          "base_uri": "https://localhost:8080/",
          "height": 360
        },
        "id": "B1D0CqHbsy_x",
        "outputId": "47087ed2-93fe-4825-c5d2-de7e19eeeffe"
      },
      "execution_count": null,
      "outputs": [
        {
          "output_type": "display_data",
          "data": {
            "text/plain": [
              "<Figure size 1200x600 with 1 Axes>"
            ],
            "image/png": "[encoded data removed]"
          },
          "metadata": {}
        }
      ]
    },
    {
      "cell_type": "markdown",
      "source": [
        "##**Identify categorical,ordinal, and continuous features and explain how each will be processed**"
      ],
      "metadata": {
        "id": "Uy0JerWnuH8C"
      }
    },
    {
      "cell_type": "code",
      "source": [
        "#Our dataset name is syn\n",
        "#We will start to identify the oridnal features manually\n",
        "ordinal_features = [\n",
        "    \"Overall Qual\", \"Overall Cond\", \"Exter Qual\", \"Exter Cond\", \"Kitchen Qual\",\n",
        "    \"Functional\", \"Land Slope\", \"Lot Shape\"\n",
        "]\n",
        "\n",
        "categorical_features = list()\n",
        "continuous_features = list()\n",
        "\n",
        "for col in syn:\n",
        "    if syn[col].dtype == 'object' and col not in ordinal_features:\n",
        "        categorical_features.append(col)\n",
        "    elif syn[col].dtype in ['float64', 'int64'] and col not in ordinal_features:\n",
        "      continuous_features.append(col)\n",
        "\n",
        "\n",
        "print(\"Categorical Features:\",categorical_features)\n",
        "print(\"Continuous Features:\",continuous_features)\n",
        "print(\"Ordinal Features:\", ordinal_features)"
      ],
      "metadata": {
        "colab": {
          "base_uri": "https://localhost:8080/"
        },
        "id": "09OOYoSJG4Ls",
        "outputId": "9ba8dd1c-12c5-494d-b5d3-f6fa5e6d02d9"
      },
      "execution_count": null,
      "outputs": [
        {
          "output_type": "stream",
          "name": "stdout",
          "text": [
            "Categorical Features: ['MS Zoning', 'Street', 'Alley', 'Land Contour', 'Utilities', 'Lot Config', 'Neighborhood', 'Condition 1', 'Condition 2', 'Bldg Type', 'House Style', 'Roof Style', 'Roof Matl', 'Exterior 1st', 'Exterior 2nd', 'Mas Vnr Type', 'Foundation', 'Bsmt Qual', 'Bsmt Cond', 'Bsmt Exposure', 'BsmtFin Type 1', 'BsmtFin Type 2', 'Heating', 'Heating QC', 'Central Air', 'Electrical', 'Fireplace Qu', 'Garage Type', 'Garage Finish', 'Garage Qual', 'Garage Cond', 'Paved Drive', 'Pool QC', 'Fence', 'Misc Feature', 'Sale Type', 'Sale Condition']\n",
            "Continuous Features: ['Order', 'PID', 'MS SubClass', 'Lot Frontage', 'Lot Area', 'Year Built', 'Year Remod/Add', 'Mas Vnr Area', 'BsmtFin SF 1', 'BsmtFin SF 2', 'Bsmt Unf SF', 'Total Bsmt SF', '1st Flr SF', '2nd Flr SF', 'Low Qual Fin SF', 'Gr Liv Area', 'Bsmt Full Bath', 'Bsmt Half Bath', 'Full Bath', 'Half Bath', 'Bedroom AbvGr', 'Kitchen AbvGr', 'TotRms AbvGrd', 'Fireplaces', 'Garage Yr Blt', 'Garage Cars', 'Garage Area', 'Wood Deck SF', 'Open Porch SF', 'Enclosed Porch', '3Ssn Porch', 'Screen Porch', 'Pool Area', 'Misc Val', 'Mo Sold', 'Yr Sold', 'SalePrice']\n",
            "Ordinal Features: ['Overall Qual', 'Overall Cond', 'Exter Qual', 'Exter Cond', 'Kitchen Qual', 'Functional', 'Land Slope', 'Lot Shape']\n"
          ]
        }
      ]
    },
    {
      "cell_type": "markdown",
      "source": [
        "#**Data Preprocessing**\n"
      ],
      "metadata": {
        "id": "4-pBbZLkfTOF"
      }
    },
    {
      "cell_type": "markdown",
      "source": [
        "### Cleaning and Feature Engineering ###"
      ],
      "metadata": {
        "id": "3zePrJ3GwhxE"
      }
    },
    {
      "cell_type": "code",
      "source": [
        "#Finding out which features(Columns) have missing values\n",
        "#Recall earlier we figured out the missing values and their count in each feature\n",
        "missing_values = syn.isnull().sum()\n",
        "print((missing_values[missing_values > 0]))"
      ],
      "metadata": {
        "colab": {
          "base_uri": "https://localhost:8080/"
        },
        "id": "aS_iUbpsZoWZ",
        "outputId": "6551b557-1062-4719-f46e-0747f2671232"
      },
      "execution_count": null,
      "outputs": [
        {
          "output_type": "stream",
          "name": "stdout",
          "text": [
            "Lot Frontage       490\n",
            "Alley             2732\n",
            "Mas Vnr Type      1775\n",
            "Mas Vnr Area        23\n",
            "Bsmt Qual           80\n",
            "Bsmt Cond           80\n",
            "Bsmt Exposure       83\n",
            "BsmtFin Type 1      80\n",
            "BsmtFin SF 1         1\n",
            "BsmtFin Type 2      81\n",
            "BsmtFin SF 2         1\n",
            "Bsmt Unf SF          1\n",
            "Total Bsmt SF        1\n",
            "Electrical           1\n",
            "Bsmt Full Bath       2\n",
            "Bsmt Half Bath       2\n",
            "Fireplace Qu      1422\n",
            "Garage Type        157\n",
            "Garage Yr Blt      159\n",
            "Garage Finish      159\n",
            "Garage Cars          1\n",
            "Garage Area          1\n",
            "Garage Qual        159\n",
            "Garage Cond        159\n",
            "Pool QC           2917\n",
            "Fence             2358\n",
            "Misc Feature      2824\n",
            "dtype: int64\n"
          ]
        }
      ]
    },
    {
      "cell_type": "code",
      "source": [
        "#fence\n",
        "(2358/len(syn)) * 100"
      ],
      "metadata": {
        "colab": {
          "base_uri": "https://localhost:8080/"
        },
        "id": "JowOHnVBvYXO",
        "outputId": "a1232d58-4f6f-4a96-a9ac-a5912f22838d"
      },
      "execution_count": null,
      "outputs": [
        {
          "output_type": "execute_result",
          "data": {
            "text/plain": [
              "80.4778156996587"
            ]
          },
          "metadata": {},
          "execution_count": 88
        }
      ]
    },
    {
      "cell_type": "code",
      "source": [
        "missing_values_percentage = ((missing_values[missing_values > 0]/len(syn))*100)\n",
        "missing_values_percentage = missing_values_percentage.sort_values()\n",
        "print(missing_values_percentage)"
      ],
      "metadata": {
        "colab": {
          "base_uri": "https://localhost:8080/"
        },
        "id": "qmEUK56_ah1K",
        "outputId": "03e50e91-d211-4b68-e250-74e8c5f95248"
      },
      "execution_count": null,
      "outputs": [
        {
          "output_type": "stream",
          "name": "stdout",
          "text": [
            "Electrical         0.034130\n",
            "Garage Cars        0.034130\n",
            "BsmtFin SF 1       0.034130\n",
            "Garage Area        0.034130\n",
            "BsmtFin SF 2       0.034130\n",
            "Bsmt Unf SF        0.034130\n",
            "Total Bsmt SF      0.034130\n",
            "Bsmt Half Bath     0.068259\n",
            "Bsmt Full Bath     0.068259\n",
            "Mas Vnr Area       0.784983\n",
            "Bsmt Qual          2.730375\n",
            "Bsmt Cond          2.730375\n",
            "BsmtFin Type 1     2.730375\n",
            "BsmtFin Type 2     2.764505\n",
            "Bsmt Exposure      2.832765\n",
            "Garage Type        5.358362\n",
            "Garage Qual        5.426621\n",
            "Garage Cond        5.426621\n",
            "Garage Yr Blt      5.426621\n",
            "Garage Finish      5.426621\n",
            "Lot Frontage      16.723549\n",
            "Fireplace Qu      48.532423\n",
            "Mas Vnr Type      60.580205\n",
            "Fence             80.477816\n",
            "Alley             93.242321\n",
            "Misc Feature      96.382253\n",
            "Pool QC           99.556314\n",
            "dtype: float64\n"
          ]
        }
      ]
    },
    {
      "cell_type": "code",
      "source": [
        "#spliting the data into features and target variables\n",
        "# X is our features\n",
        "X = syn.iloc[:,:-1]\n",
        "\n",
        "# y is our target variable\n",
        "y = syn.iloc[:,-1]"
      ],
      "metadata": {
        "id": "XfYZ7H6Xe64G"
      },
      "execution_count": null,
      "outputs": []
    },
    {
      "cell_type": "code",
      "source": [
        "print(X)"
      ],
      "metadata": {
        "colab": {
          "base_uri": "https://localhost:8080/"
        },
        "collapsed": true,
        "id": "vascWgjRfj-s",
        "outputId": "c745d171-b0e4-48a1-c181-ec3f60d58259"
      },
      "execution_count": null,
      "outputs": [
        {
          "output_type": "stream",
          "name": "stdout",
          "text": [
            "      Order        PID  MS SubClass MS Zoning  Lot Frontage  Lot Area Street  \\\n",
            "0         1  526301100           20        RL         141.0     31770   Pave   \n",
            "1         2  526350040           20        RH          80.0     11622   Pave   \n",
            "2         3  526351010           20        RL          81.0     14267   Pave   \n",
            "3         4  526353030           20        RL          93.0     11160   Pave   \n",
            "4         5  527105010           60        RL          74.0     13830   Pave   \n",
            "...     ...        ...          ...       ...           ...       ...    ...   \n",
            "2925   2926  923275080           80        RL          37.0      7937   Pave   \n",
            "2926   2927  923276100           20        RL           NaN      8885   Pave   \n",
            "2927   2928  923400125           85        RL          62.0     10441   Pave   \n",
            "2928   2929  924100070           20        RL          77.0     10010   Pave   \n",
            "2929   2930  924151050           60        RL          74.0      9627   Pave   \n",
            "\n",
            "     Alley Lot Shape Land Contour  ... Screen Porch Pool Area Pool QC  Fence  \\\n",
            "0      NaN       IR1          Lvl  ...            0         0     NaN    NaN   \n",
            "1      NaN       Reg          Lvl  ...          120         0     NaN  MnPrv   \n",
            "2      NaN       IR1          Lvl  ...            0         0     NaN    NaN   \n",
            "3      NaN       Reg          Lvl  ...            0         0     NaN    NaN   \n",
            "4      NaN       IR1          Lvl  ...            0         0     NaN  MnPrv   \n",
            "...    ...       ...          ...  ...          ...       ...     ...    ...   \n",
            "2925   NaN       IR1          Lvl  ...            0         0     NaN  GdPrv   \n",
            "2926   NaN       IR1          Low  ...            0         0     NaN  MnPrv   \n",
            "2927   NaN       Reg          Lvl  ...            0         0     NaN  MnPrv   \n",
            "2928   NaN       Reg          Lvl  ...            0         0     NaN    NaN   \n",
            "2929   NaN       Reg          Lvl  ...            0         0     NaN    NaN   \n",
            "\n",
            "     Misc Feature Misc Val Mo Sold Yr Sold  Sale Type  Sale Condition  \n",
            "0             NaN        0       5    2010        WD           Normal  \n",
            "1             NaN        0       6    2010        WD           Normal  \n",
            "2            Gar2    12500       6    2010        WD           Normal  \n",
            "3             NaN        0       4    2010        WD           Normal  \n",
            "4             NaN        0       3    2010        WD           Normal  \n",
            "...           ...      ...     ...     ...        ...             ...  \n",
            "2925          NaN        0       3    2006        WD           Normal  \n",
            "2926          NaN        0       6    2006        WD           Normal  \n",
            "2927         Shed      700       7    2006        WD           Normal  \n",
            "2928          NaN        0       4    2006        WD           Normal  \n",
            "2929          NaN        0      11    2006        WD           Normal  \n",
            "\n",
            "[2930 rows x 81 columns]\n"
          ]
        }
      ]
    },
    {
      "cell_type": "code",
      "source": [
        "print(y)"
      ],
      "metadata": {
        "colab": {
          "base_uri": "https://localhost:8080/"
        },
        "collapsed": true,
        "id": "iI34gTz1fmfM",
        "outputId": "ce38279b-055d-44d5-c923-ea02989403b4"
      },
      "execution_count": null,
      "outputs": [
        {
          "output_type": "stream",
          "name": "stdout",
          "text": [
            "0       215000\n",
            "1       105000\n",
            "2       172000\n",
            "3       244000\n",
            "4       189900\n",
            "         ...  \n",
            "2925    142500\n",
            "2926    131000\n",
            "2927    132000\n",
            "2928    170000\n",
            "2929    188000\n",
            "Name: SalePrice, Length: 2930, dtype: int64\n"
          ]
        }
      ]
    },
    {
      "cell_type": "code",
      "source": [
        "#We dropped 'Order' and 'PID' both have no value\n",
        "X.drop(columns=['Order', 'PID'], inplace=True)"
      ],
      "metadata": {
        "id": "HrJz_3PYf07U"
      },
      "execution_count": null,
      "outputs": []
    },
    {
      "cell_type": "code",
      "source": [
        "#We're going to drop the columns of all features that had more than 10% missing values\n",
        "X.drop(columns = ['Lot Frontage', 'Fireplace Qu', 'Mas Vnr Type', 'Fence', 'Alley', 'Misc Feature',\n",
        "                  'Pool QC'], inplace = True)\n"
      ],
      "metadata": {
        "id": "dUrk7OPOh3VC"
      },
      "execution_count": null,
      "outputs": []
    },
    {
      "cell_type": "code",
      "source": [
        "#Making a new binary feature 'Garage' if a garage exists or no on the property\n",
        "#Using one of the garage features then dropping the rest of garage features.\n",
        "\n",
        "temp_list = []\n",
        "for item in X['Garage Finish']:\n",
        "  if(item == 'Fin' or item == 'RFn' or item == 'Unf'):\n",
        "    temp_list.append(1)\n",
        "  else:\n",
        "    temp_list.append(0)\n",
        "X['Garage'] = temp_list\n",
        "\n",
        "\n",
        "\n",
        "X.drop(columns = ['Garage Finish', 'Garage Qual', 'Garage Cond', 'Garage Yr Blt', 'Garage Type', 'Garage Cars'], inplace = True)\n",
        "#We're not dropping 'Garage Area'\n",
        "#we're only dropping 'Garage Cars' because they\n",
        "#both have the same value or idea. (area of garage)"
      ],
      "metadata": {
        "id": "-oUGh2IWW_1H"
      },
      "execution_count": null,
      "outputs": []
    },
    {
      "cell_type": "code",
      "source": [
        "X['Bsmt Exposure'].unique()"
      ],
      "metadata": {
        "colab": {
          "base_uri": "https://localhost:8080/"
        },
        "id": "iC-X0pZ_cer4",
        "outputId": "d3830e99-7330-4684-8a27-8c5ca0d8a39c"
      },
      "execution_count": null,
      "outputs": [
        {
          "output_type": "execute_result",
          "data": {
            "text/plain": [
              "array(['Gd', 'No', 'Mn', 'Av', nan], dtype=object)"
            ]
          },
          "metadata": {},
          "execution_count": 22
        }
      ]
    },
    {
      "cell_type": "markdown",
      "source": [
        "The point of bsmt and garage steps\n",
        "is to make the dataset less complex (less dimensionality)"
      ],
      "metadata": {
        "id": "Mjao6GO8xbqb"
      }
    },
    {
      "cell_type": "code",
      "source": [
        "#Making a new binary feature 'Basement' if a Basement exists or no on the property\n",
        "#Using one of the Basement features then dropping the rest of Basement features.\n",
        "\n",
        "#the dataset explains that\n",
        "#if there's a missing value in this feature then that means no basement\n",
        "\n",
        "temp_list = []\n",
        "for item in X['Bsmt Exposure']:\n",
        "  if(item == 'No' or item == 'Gd' or item == 'Mn' or item == 'Av'):\n",
        "    temp_list.append(1)\n",
        "  else:\n",
        "    temp_list.append(0)\n",
        "\n",
        "\n",
        "X['Basement'] = temp_list\n",
        "\n",
        "\n",
        "print(X['Basement'].value_counts())\n",
        "\n",
        "\n",
        "\n",
        "X.drop(columns = ['Bsmt Qual', 'Bsmt Cond', 'Bsmt Exposure', 'BsmtFin Type 1', 'BsmtFin Type 2'], inplace = True)\n"
      ],
      "metadata": {
        "colab": {
          "base_uri": "https://localhost:8080/"
        },
        "id": "6MewtkliZn-H",
        "outputId": "afdf0511-6b09-498f-d1f5-22bb3de9d259"
      },
      "execution_count": null,
      "outputs": [
        {
          "output_type": "stream",
          "name": "stdout",
          "text": [
            "Basement\n",
            "1    2847\n",
            "0      83\n",
            "Name: count, dtype: int64\n"
          ]
        }
      ]
    },
    {
      "cell_type": "code",
      "source": [
        "print(X['Garage'].value_counts())"
      ],
      "metadata": {
        "colab": {
          "base_uri": "https://localhost:8080/"
        },
        "id": "4MIwbME1YBh7",
        "outputId": "6914c013-e09b-4518-9baa-d724567ac47a"
      },
      "execution_count": null,
      "outputs": [
        {
          "output_type": "stream",
          "name": "stdout",
          "text": [
            "Garage\n",
            "1    2771\n",
            "0     159\n",
            "Name: count, dtype: int64\n"
          ]
        }
      ]
    },
    {
      "cell_type": "code",
      "source": [
        "X.shape"
      ],
      "metadata": {
        "colab": {
          "base_uri": "https://localhost:8080/"
        },
        "id": "RCEmnx_Ozla5",
        "outputId": "82fd5915-368a-45d9-e676-b25a891ec1c4"
      },
      "execution_count": null,
      "outputs": [
        {
          "output_type": "execute_result",
          "data": {
            "text/plain": [
              "(2930, 63)"
            ]
          },
          "metadata": {},
          "execution_count": 25
        }
      ]
    },
    {
      "cell_type": "code",
      "source": [
        "#MOST FREQUENT IMPUTING\n",
        "#Because Electric is a category feature we use the ('Mode') or most frequent strategy from SimpleImputer.\n",
        "print(X[['Electrical']].isnull().sum())\n",
        "\n",
        "from sklearn.impute import SimpleImputer\n",
        "\n",
        "imputer = SimpleImputer(strategy='most_frequent')\n",
        "\n",
        "X[['Electrical']] = imputer.fit_transform(X[['Electrical']])\n",
        "\n",
        "print(X[['Electrical']].isnull().sum())"
      ],
      "metadata": {
        "id": "Gy-7vFMttycB",
        "colab": {
          "base_uri": "https://localhost:8080/"
        },
        "outputId": "aae16c5b-fc6e-4717-c36a-07ac3b102440"
      },
      "execution_count": null,
      "outputs": [
        {
          "output_type": "stream",
          "name": "stdout",
          "text": [
            "Electrical    1\n",
            "dtype: int64\n",
            "Electrical    0\n",
            "dtype: int64\n"
          ]
        }
      ]
    },
    {
      "cell_type": "code",
      "source": [
        "#MEDIAN IMPUTING\n",
        "print(X[['Bsmt Half Bath','Bsmt Full Bath']].isnull().sum())\n",
        "imputer = SimpleImputer(strategy='median')\n",
        "X[['Bsmt Half Bath','Bsmt Full Bath']] = imputer.fit_transform(X[['Bsmt Half Bath','Bsmt Full Bath']])\n",
        "print(X[['Bsmt Half Bath','Bsmt Full Bath']].isnull().sum())"
      ],
      "metadata": {
        "id": "lss5zPAwyIyT",
        "colab": {
          "base_uri": "https://localhost:8080/"
        },
        "outputId": "4781b636-d288-4473-ebac-94f8ef0acd05"
      },
      "execution_count": null,
      "outputs": [
        {
          "output_type": "stream",
          "name": "stdout",
          "text": [
            "Bsmt Half Bath    2\n",
            "Bsmt Full Bath    2\n",
            "dtype: int64\n",
            "Bsmt Half Bath    0\n",
            "Bsmt Full Bath    0\n",
            "dtype: int64\n"
          ]
        }
      ]
    },
    {
      "cell_type": "code",
      "source": [
        "#MEAN CONT VALUE IMPUTING\n",
        "print(X[['BsmtFin SF 2', 'BsmtFin SF 1', 'Garage Area',\n",
        "         'Bsmt Unf SF', 'Total Bsmt SF', 'Mas Vnr Area',]].isnull().sum())\n",
        "\n",
        "imputer = SimpleImputer(strategy='mean')\n",
        "\n",
        "X[['BsmtFin SF 2', 'BsmtFin SF 1', 'Garage Area',\n",
        "   'Bsmt Unf SF', 'Total Bsmt SF', 'Mas Vnr Area']] = imputer.fit_transform(X[['BsmtFin SF 2', 'BsmtFin SF 1', 'Garage Area', 'Bsmt Unf SF', 'Total Bsmt SF', 'Mas Vnr Area']])\n",
        "\n",
        "print(X[['BsmtFin SF 2', 'BsmtFin SF 1', 'Garage Area',\n",
        "         'Bsmt Unf SF', 'Total Bsmt SF', 'Mas Vnr Area']].isnull().sum())\n"
      ],
      "metadata": {
        "id": "_izi8ONV2TLt",
        "colab": {
          "base_uri": "https://localhost:8080/"
        },
        "outputId": "6044cd68-15ee-40b6-d22f-28a42c9c9487"
      },
      "execution_count": null,
      "outputs": [
        {
          "output_type": "stream",
          "name": "stdout",
          "text": [
            "BsmtFin SF 2      1\n",
            "BsmtFin SF 1      1\n",
            "Garage Area       1\n",
            "Bsmt Unf SF       1\n",
            "Total Bsmt SF     1\n",
            "Mas Vnr Area     23\n",
            "dtype: int64\n",
            "BsmtFin SF 2     0\n",
            "BsmtFin SF 1     0\n",
            "Garage Area      0\n",
            "Bsmt Unf SF      0\n",
            "Total Bsmt SF    0\n",
            "Mas Vnr Area     0\n",
            "dtype: int64\n"
          ]
        }
      ]
    },
    {
      "cell_type": "markdown",
      "source": [
        "More featur selection"
      ],
      "metadata": {
        "id": "Spm54U_9zWJM"
      }
    },
    {
      "cell_type": "code",
      "source": [
        "#We're going to combine all bathroom features into one 'Total Bathrooms'\n",
        "#and drop what we combined from\n",
        "\n",
        "X['Total Bathrooms'] = X['Bsmt Half Bath'] + X['Bsmt Full Bath'] + X['Full Bath'] + X['Half Bath']\n",
        "X.drop(columns = ['Bsmt Half Bath', 'Bsmt Full Bath', 'Full Bath', 'Half Bath'], inplace = True)\n"
      ],
      "metadata": {
        "id": "DOgDKEAeg1ZH"
      },
      "execution_count": null,
      "outputs": []
    },
    {
      "cell_type": "code",
      "source": [
        "#We're going to combine all porch features into one 'Total Porch Area'\n",
        "#and drop what we combined from\n",
        "\n",
        "X['Total Porch Area'] = X['Open Porch SF'] + X['Enclosed Porch'] + X['3Ssn Porch'] + X['Screen Porch']\n",
        "X.drop(columns = ['Enclosed Porch', '3Ssn Porch', 'Screen Porch', 'Open Porch SF'], inplace = True)"
      ],
      "metadata": {
        "id": "VK8jJE8ohOnm"
      },
      "execution_count": null,
      "outputs": []
    },
    {
      "cell_type": "code",
      "source": [
        "#We're going to drop features: 'BsmtFin SF 1', 'BsmtFin SF 2', 'Bsmt Unf SF'\n",
        "#And be content with the already made feature\n",
        "#Total area of basement'Total Bsmt Sf'\n",
        "\n",
        "#NOTE: Total = square feet of bsmt1, bsmt2 and unfinished(bsmtunf)\n",
        "X.drop(columns = ['BsmtFin SF 1', 'BsmtFin SF 2', 'Bsmt Unf SF'], inplace = True)\n"
      ],
      "metadata": {
        "id": "PR6VL-AvjK28"
      },
      "execution_count": null,
      "outputs": []
    },
    {
      "cell_type": "code",
      "source": [
        "#Studying & tracing the dataset, we found out that summing the indexes\n",
        "#of these three columns gave the total living area above ground (\"Gr Liv Area\")\n",
        "#So we're dropping all three and keeping 'Gr Liv Area'\n",
        "#E.G. ORDER: 1319 1ST:938 2ND:1215 LOWQUAL:205 = 2358\n",
        "\n",
        "\n",
        "\n",
        "X.drop(columns =['1st Flr SF', '2nd Flr SF', 'Low Qual Fin SF'], inplace = True)"
      ],
      "metadata": {
        "id": "XrrxJbIFlgJc"
      },
      "execution_count": null,
      "outputs": []
    },
    {
      "cell_type": "code",
      "source": [
        "#Combining the total living area for both basement level and above ground level\n",
        "#in 'Total living Area'\n",
        "X['Total Living Area'] = X['Gr Liv Area'] + X['Total Bsmt SF']\n",
        "X.drop(columns = ['Gr Liv Area', 'Total Bsmt SF'], inplace = True)"
      ],
      "metadata": {
        "id": "V1oOctPQsSrW"
      },
      "execution_count": null,
      "outputs": []
    },
    {
      "cell_type": "code",
      "source": [
        "#Dropping Kitchen AbvGr, Bedroom AbvGr, Kitchen Qual\n",
        "#Because of we already have Total Rooms features 'TotRms AbvGrd'\n",
        "X.drop(columns = ['Kitchen AbvGr', 'Bedroom AbvGr', 'Kitchen Qual'], inplace = True)"
      ],
      "metadata": {
        "id": "3ooD80N4kSKK"
      },
      "execution_count": null,
      "outputs": []
    },
    {
      "cell_type": "code",
      "source": [
        "X.columns"
      ],
      "metadata": {
        "colab": {
          "base_uri": "https://localhost:8080/"
        },
        "id": "4OS3NG29K4Q6",
        "outputId": "872d6574-faef-408e-ed1d-3ee8a84537f8"
      },
      "execution_count": null,
      "outputs": [
        {
          "output_type": "execute_result",
          "data": {
            "text/plain": [
              "Index(['MS SubClass', 'MS Zoning', 'Lot Area', 'Street', 'Lot Shape',\n",
              "       'Land Contour', 'Utilities', 'Lot Config', 'Land Slope', 'Neighborhood',\n",
              "       'Condition 1', 'Condition 2', 'Bldg Type', 'House Style',\n",
              "       'Overall Qual', 'Overall Cond', 'Year Built', 'Year Remod/Add',\n",
              "       'Roof Style', 'Roof Matl', 'Exterior 1st', 'Exterior 2nd',\n",
              "       'Mas Vnr Area', 'Exter Qual', 'Exter Cond', 'Foundation', 'Heating',\n",
              "       'Heating QC', 'Central Air', 'Electrical', 'TotRms AbvGrd',\n",
              "       'Functional', 'Fireplaces', 'Garage Area', 'Paved Drive',\n",
              "       'Wood Deck SF', 'Pool Area', 'Misc Val', 'Mo Sold', 'Yr Sold',\n",
              "       'Sale Type', 'Sale Condition', 'Garage', 'Basement', 'Total Bathrooms',\n",
              "       'Total Porch Area', 'Total Living Area'],\n",
              "      dtype='object')"
            ]
          },
          "metadata": {},
          "execution_count": 35
        }
      ]
    },
    {
      "cell_type": "code",
      "source": [
        "#dropping 'Functional' same meaning?\n",
        "#In favour of already made feature 'Overall Cond'\n",
        "X.drop(columns = ['Functional'], inplace = True)"
      ],
      "metadata": {
        "id": "1NozbJH9LDeD"
      },
      "execution_count": null,
      "outputs": []
    },
    {
      "cell_type": "code",
      "source": [
        "#dropping 'Mo Sold'\n",
        "\n",
        "X.drop(columns = ['Mo Sold'] , inplace = True)\n"
      ],
      "metadata": {
        "id": "TMt-zc97mXzb"
      },
      "execution_count": null,
      "outputs": []
    },
    {
      "cell_type": "code",
      "source": [
        "#feature engineering (new column Construction age using year built and year sold)\n",
        "\n",
        "X['Construction Age'] = abs(X['Year Built'] - X['Yr Sold'])\n",
        "\n",
        "X['Construction Age']"
      ],
      "metadata": {
        "colab": {
          "base_uri": "https://localhost:8080/",
          "height": 458
        },
        "id": "jU-qhicpIW4l",
        "outputId": "50206598-0f44-4e01-b118-7ce88b3eccce"
      },
      "execution_count": null,
      "outputs": [
        {
          "output_type": "execute_result",
          "data": {
            "text/plain": [
              "0       50\n",
              "1       49\n",
              "2       52\n",
              "3       42\n",
              "4       13\n",
              "        ..\n",
              "2925    22\n",
              "2926    23\n",
              "2927    14\n",
              "2928    32\n",
              "2929    13\n",
              "Name: Construction Age, Length: 2930, dtype: int64"
            ],
            "text/html": [
              "<div>\n",
              "<style scoped>\n",
              "    .dataframe tbody tr th:only-of-type {\n",
              "        vertical-align: middle;\n",
              "    }\n",
              "\n",
              "    .dataframe tbody tr th {\n",
              "        vertical-align: top;\n",
              "    }\n",
              "\n",
              "    .dataframe thead th {\n",
              "        text-align: right;\n",
              "    }\n",
              "</style>\n",
              "<table border=\"1\" class=\"dataframe\">\n",
              "  <thead>\n",
              "    <tr style=\"text-align: right;\">\n",
              "      <th></th>\n",
              "      <th>Construction Age</th>\n",
              "    </tr>\n",
              "  </thead>\n",
              "  <tbody>\n",
              "    <tr>\n",
              "      <th>0</th>\n",
              "      <td>50</td>\n",
              "    </tr>\n",
              "    <tr>\n",
              "      <th>1</th>\n",
              "      <td>49</td>\n",
              "    </tr>\n",
              "    <tr>\n",
              "      <th>2</th>\n",
              "      <td>52</td>\n",
              "    </tr>\n",
              "    <tr>\n",
              "      <th>3</th>\n",
              "      <td>42</td>\n",
              "    </tr>\n",
              "    <tr>\n",
              "      <th>4</th>\n",
              "      <td>13</td>\n",
              "    </tr>\n",
              "    <tr>\n",
              "      <th>...</th>\n",
              "      <td>...</td>\n",
              "    </tr>\n",
              "    <tr>\n",
              "      <th>2925</th>\n",
              "      <td>22</td>\n",
              "    </tr>\n",
              "    <tr>\n",
              "      <th>2926</th>\n",
              "      <td>23</td>\n",
              "    </tr>\n",
              "    <tr>\n",
              "      <th>2927</th>\n",
              "      <td>14</td>\n",
              "    </tr>\n",
              "    <tr>\n",
              "      <th>2928</th>\n",
              "      <td>32</td>\n",
              "    </tr>\n",
              "    <tr>\n",
              "      <th>2929</th>\n",
              "      <td>13</td>\n",
              "    </tr>\n",
              "  </tbody>\n",
              "</table>\n",
              "<p>2930 rows × 1 columns</p>\n",
              "</div><br><label><b>dtype:</b> int64</label>"
            ]
          },
          "metadata": {},
          "execution_count": 38
        }
      ]
    },
    {
      "cell_type": "code",
      "source": [
        "X.shape"
      ],
      "metadata": {
        "colab": {
          "base_uri": "https://localhost:8080/"
        },
        "id": "GAr7JkOQvZI3",
        "outputId": "64c129a5-e626-4f6e-bd9b-34e7634c4214"
      },
      "execution_count": null,
      "outputs": [
        {
          "output_type": "execute_result",
          "data": {
            "text/plain": [
              "(2930, 46)"
            ]
          },
          "metadata": {},
          "execution_count": 40
        }
      ]
    },
    {
      "cell_type": "code",
      "source": [
        "X.columns"
      ],
      "metadata": {
        "colab": {
          "base_uri": "https://localhost:8080/"
        },
        "id": "i9c_q2I7vb-A",
        "outputId": "fa7fa1aa-b501-4f9f-ff56-82012f98c82e"
      },
      "execution_count": null,
      "outputs": [
        {
          "output_type": "execute_result",
          "data": {
            "text/plain": [
              "Index(['MS SubClass', 'MS Zoning', 'Lot Area', 'Street', 'Lot Shape',\n",
              "       'Land Contour', 'Utilities', 'Lot Config', 'Land Slope', 'Neighborhood',\n",
              "       'Condition 1', 'Condition 2', 'Bldg Type', 'House Style',\n",
              "       'Overall Qual', 'Overall Cond', 'Year Built', 'Year Remod/Add',\n",
              "       'Roof Style', 'Roof Matl', 'Exterior 1st', 'Exterior 2nd',\n",
              "       'Mas Vnr Area', 'Exter Qual', 'Exter Cond', 'Foundation', 'Heating',\n",
              "       'Heating QC', 'Central Air', 'Electrical', 'TotRms AbvGrd',\n",
              "       'Fireplaces', 'Garage Area', 'Paved Drive', 'Wood Deck SF', 'Pool Area',\n",
              "       'Misc Val', 'Yr Sold', 'Sale Type', 'Sale Condition', 'Garage',\n",
              "       'Basement', 'Total Bathrooms', 'Total Porch Area', 'Total Living Area',\n",
              "       'Construction Age'],\n",
              "      dtype='object')"
            ]
          },
          "metadata": {},
          "execution_count": 41
        }
      ]
    },
    {
      "cell_type": "markdown",
      "source": [
        "### Encoding ###"
      ],
      "metadata": {
        "id": "jpl7NZVIwp2c"
      }
    },
    {
      "cell_type": "code",
      "source": [
        "# Updating the orginal list with the new features that survived in X after cleaning\n",
        "#X col names in temp_list\n",
        "temp_list = list(X)\n",
        "for j in ordinal_features:\n",
        "  if j not in temp_list:\n",
        "    ordinal_features.remove(j)\n",
        "\n",
        "temp_list_2 = list()\n",
        "for j in categorical_features:\n",
        "    if j in temp_list:\n",
        "        temp_list_2.append(j)\n",
        "\n",
        "categorical_features = temp_list_2\n",
        "\n",
        "temp_list_3 = list()\n",
        "for j in continuous_features:\n",
        "    if j in temp_list:\n",
        "        temp_list_3.append(j)\n",
        "\n",
        "continuous_features = temp_list_3\n",
        "\n",
        "print(f\"Ordinal Features is :{ordinal_features}\")\n",
        "print(f\"Categorical Features is :{categorical_features}\")\n",
        "print(f\"Continuous Features is :{continuous_features}\")"
      ],
      "metadata": {
        "colab": {
          "base_uri": "https://localhost:8080/"
        },
        "id": "F6DdRQciyTnL",
        "outputId": "2d21ce6f-e455-40b3-e22c-263356027a9c"
      },
      "execution_count": null,
      "outputs": [
        {
          "output_type": "stream",
          "name": "stdout",
          "text": [
            "Ordinal Features is :['Overall Qual', 'Overall Cond', 'Exter Qual', 'Exter Cond', 'Functional', 'Land Slope', 'Lot Shape']\n",
            "Categorical Features is :['MS Zoning', 'Street', 'Land Contour', 'Utilities', 'Lot Config', 'Neighborhood', 'Condition 1', 'Condition 2', 'Bldg Type', 'House Style', 'Roof Style', 'Roof Matl', 'Exterior 1st', 'Exterior 2nd', 'Foundation', 'Heating', 'Heating QC', 'Central Air', 'Electrical', 'Paved Drive', 'Sale Type', 'Sale Condition']\n",
            "Continuous Features is :['MS SubClass', 'Lot Area', 'Year Built', 'Year Remod/Add', 'Mas Vnr Area', 'TotRms AbvGrd', 'Fireplaces', 'Garage Area', 'Wood Deck SF', 'Pool Area', 'Misc Val', 'Yr Sold']\n"
          ]
        }
      ]
    },
    {
      "cell_type": "code",
      "source": [
        "# Ordinal Features is :['Overall Qual', 'Overall Cond', 'Exter Qual', 'Exter Cond', 'Land Slope', 'Lot Shape']   Done Ordinal Encoder\n",
        "\n",
        "\n",
        "# Categorical Features is :['MS Zoning', 'Street', 'Land Contour', 'Utilities', 'Lot Config', 'Neighborhood', 'Condition 1', 'Condition 2', 'Bldg Type', 'House Style', 'Roof Style', 'Roof Matl', 'Exterior 1st', 'Exterior 2nd', 'Foundation', 'Heating', 'Heating QC', 'Central Air', 'Electrical', 'Paved Drive', 'Sale Type', 'Sale Condition']   we are shift this\n",
        "\n",
        "\n",
        "# Continuous Features is :['MS SubClass', 'Lot Area', 'Year Built', 'Year Remod/Add', 'Mas Vnr Area', 'TotRms AbvGrd', 'Fireplaces', 'Garage Area', 'Wood Deck SF', 'Pool Area', 'Misc Val', 'Yr Sold']  NO encoded here"
      ],
      "metadata": {
        "id": "EBMyHZBmzb3b"
      },
      "execution_count": null,
      "outputs": []
    },
    {
      "cell_type": "code",
      "source": [
        "X.columns"
      ],
      "metadata": {
        "colab": {
          "base_uri": "https://localhost:8080/"
        },
        "id": "ibgNWEIRy9Pd",
        "outputId": "3db78399-dc7b-4eab-bddd-9bd7e09a572e"
      },
      "execution_count": null,
      "outputs": [
        {
          "output_type": "execute_result",
          "data": {
            "text/plain": [
              "Index(['MS SubClass', 'MS Zoning', 'Lot Area', 'Street', 'Lot Shape',\n",
              "       'Land Contour', 'Utilities', 'Lot Config', 'Land Slope', 'Neighborhood',\n",
              "       'Condition 1', 'Condition 2', 'Bldg Type', 'House Style',\n",
              "       'Overall Qual', 'Overall Cond', 'Year Built', 'Year Remod/Add',\n",
              "       'Roof Style', 'Roof Matl', 'Exterior 1st', 'Exterior 2nd',\n",
              "       'Mas Vnr Area', 'Exter Qual', 'Exter Cond', 'Foundation', 'Heating',\n",
              "       'Heating QC', 'Central Air', 'Electrical', 'TotRms AbvGrd',\n",
              "       'Fireplaces', 'Garage Area', 'Paved Drive', 'Wood Deck SF', 'Pool Area',\n",
              "       'Misc Val', 'Yr Sold', 'Sale Type', 'Sale Condition', 'Garage',\n",
              "       'Basement', 'Total Bathrooms', 'Total Porch Area', 'Total Living Area',\n",
              "       'Construction Age'],\n",
              "      dtype='object')"
            ]
          },
          "metadata": {},
          "execution_count": 44
        }
      ]
    },
    {
      "cell_type": "code",
      "source": [
        "from sklearn.preprocessing import OrdinalEncoder\n",
        "\n",
        "oe = OrdinalEncoder()\n",
        "\n",
        "X[['Overall Qual','Overall Cond' , 'Exter Qual', 'Exter Cond', 'Land Slope', 'Lot Shape' , 'MS SubClass']] = oe.fit_transform(X[['Overall Qual' , 'Overall Cond' , 'Exter Qual', 'Exter Cond', 'Land Slope', 'Lot Shape' , 'MS SubClass']])\n",
        "\n",
        "X"
      ],
      "metadata": {
        "colab": {
          "base_uri": "https://localhost:8080/",
          "height": 478
        },
        "id": "Rrnwxq8f03gC",
        "outputId": "f8c73d3e-dfff-4395-bee6-69456e9d4755",
        "collapsed": true
      },
      "execution_count": null,
      "outputs": [
        {
          "output_type": "execute_result",
          "data": {
            "text/plain": [
              "      MS SubClass MS Zoning  Lot Area Street  Lot Shape Land Contour  \\\n",
              "0             0.0        RL     31770   Pave        0.0          Lvl   \n",
              "1             0.0        RH     11622   Pave        3.0          Lvl   \n",
              "2             0.0        RL     14267   Pave        0.0          Lvl   \n",
              "3             0.0        RL     11160   Pave        3.0          Lvl   \n",
              "4             5.0        RL     13830   Pave        0.0          Lvl   \n",
              "...           ...       ...       ...    ...        ...          ...   \n",
              "2925          8.0        RL      7937   Pave        0.0          Lvl   \n",
              "2926          0.0        RL      8885   Pave        0.0          Low   \n",
              "2927          9.0        RL     10441   Pave        3.0          Lvl   \n",
              "2928          0.0        RL     10010   Pave        3.0          Lvl   \n",
              "2929          5.0        RL      9627   Pave        3.0          Lvl   \n",
              "\n",
              "     Utilities Lot Config  Land Slope Neighborhood  ... Misc Val Yr Sold  \\\n",
              "0       AllPub     Corner         0.0        NAmes  ...        0    2010   \n",
              "1       AllPub     Inside         0.0        NAmes  ...        0    2010   \n",
              "2       AllPub     Corner         0.0        NAmes  ...    12500    2010   \n",
              "3       AllPub     Corner         0.0        NAmes  ...        0    2010   \n",
              "4       AllPub     Inside         0.0      Gilbert  ...        0    2010   \n",
              "...        ...        ...         ...          ...  ...      ...     ...   \n",
              "2925    AllPub    CulDSac         0.0      Mitchel  ...        0    2006   \n",
              "2926    AllPub     Inside         1.0      Mitchel  ...        0    2006   \n",
              "2927    AllPub     Inside         0.0      Mitchel  ...      700    2006   \n",
              "2928    AllPub     Inside         1.0      Mitchel  ...        0    2006   \n",
              "2929    AllPub     Inside         1.0      Mitchel  ...        0    2006   \n",
              "\n",
              "     Sale Type Sale Condition  Garage  Basement  Total Bathrooms  \\\n",
              "0          WD          Normal       1         1              2.0   \n",
              "1          WD          Normal       1         1              1.0   \n",
              "2          WD          Normal       1         1              2.0   \n",
              "3          WD          Normal       1         1              4.0   \n",
              "4          WD          Normal       1         1              3.0   \n",
              "...        ...            ...     ...       ...              ...   \n",
              "2925       WD          Normal       1         1              2.0   \n",
              "2926       WD          Normal       1         1              2.0   \n",
              "2927       WD          Normal       0         1              2.0   \n",
              "2928       WD          Normal       1         1              2.0   \n",
              "2929       WD          Normal       1         1              3.0   \n",
              "\n",
              "      Total Porch Area Total Living Area Construction Age  \n",
              "0                   62            2736.0               50  \n",
              "1                  120            1778.0               49  \n",
              "2                   36            2658.0               52  \n",
              "3                    0            4220.0               42  \n",
              "4                   34            2557.0               13  \n",
              "...                ...               ...              ...  \n",
              "2925                 0            2006.0               22  \n",
              "2926                 0            1766.0               23  \n",
              "2927                32            1882.0               14  \n",
              "2928                38            2778.0               32  \n",
              "2929                48            2996.0               13  \n",
              "\n",
              "[2930 rows x 46 columns]"
            ],
            "text/html": [
              "\n",
              "  <div id=\"df-2cb492d7-2a7f-45ef-8fbb-2c23a33a5b8f\" class=\"colab-df-container\">\n",
              "    <div>\n",
              "<style scoped>\n",
              "    .dataframe tbody tr th:only-of-type {\n",
              "        vertical-align: middle;\n",
              "    }\n",
              "\n",
              "    .dataframe tbody tr th {\n",
              "        vertical-align: top;\n",
              "    }\n",
              "\n",
              "    .dataframe thead th {\n",
              "        text-align: right;\n",
              "    }\n",
              "</style>\n",
              "<table border=\"1\" class=\"dataframe\">\n",
              "  <thead>\n",
              "    <tr style=\"text-align: right;\">\n",
              "      <th></th>\n",
              "      <th>MS SubClass</th>\n",
              "      <th>MS Zoning</th>\n",
              "      <th>Lot Area</th>\n",
              "      <th>Street</th>\n",
              "      <th>Lot Shape</th>\n",
              "      <th>Land Contour</th>\n",
              "      <th>Utilities</th>\n",
              "      <th>Lot Config</th>\n",
              "      <th>Land Slope</th>\n",
              "      <th>Neighborhood</th>\n",
              "      <th>...</th>\n",
              "      <th>Misc Val</th>\n",
              "      <th>Yr Sold</th>\n",
              "      <th>Sale Type</th>\n",
              "      <th>Sale Condition</th>\n",
              "      <th>Garage</th>\n",
              "      <th>Basement</th>\n",
              "      <th>Total Bathrooms</th>\n",
              "      <th>Total Porch Area</th>\n",
              "      <th>Total Living Area</th>\n",
              "      <th>Construction Age</th>\n",
              "    </tr>\n",
              "  </thead>\n",
              "  <tbody>\n",
              "    <tr>\n",
              "      <th>0</th>\n",
              "      <td>0.0</td>\n",
              "      <td>RL</td>\n",
              "      <td>31770</td>\n",
              "      <td>Pave</td>\n",
              "      <td>0.0</td>\n",
              "      <td>Lvl</td>\n",
              "      <td>AllPub</td>\n",
              "      <td>Corner</td>\n",
              "      <td>0.0</td>\n",
              "      <td>NAmes</td>\n",
              "      <td>...</td>\n",
              "      <td>0</td>\n",
              "      <td>2010</td>\n",
              "      <td>WD</td>\n",
              "      <td>Normal</td>\n",
              "      <td>1</td>\n",
              "      <td>1</td>\n",
              "      <td>2.0</td>\n",
              "      <td>62</td>\n",
              "      <td>2736.0</td>\n",
              "      <td>50</td>\n",
              "    </tr>\n",
              "    <tr>\n",
              "      <th>1</th>\n",
              "      <td>0.0</td>\n",
              "      <td>RH</td>\n",
              "      <td>11622</td>\n",
              "      <td>Pave</td>\n",
              "      <td>3.0</td>\n",
              "      <td>Lvl</td>\n",
              "      <td>AllPub</td>\n",
              "      <td>Inside</td>\n",
              "      <td>0.0</td>\n",
              "      <td>NAmes</td>\n",
              "      <td>...</td>\n",
              "      <td>0</td>\n",
              "      <td>2010</td>\n",
              "      <td>WD</td>\n",
              "      <td>Normal</td>\n",
              "      <td>1</td>\n",
              "      <td>1</td>\n",
              "      <td>1.0</td>\n",
              "      <td>120</td>\n",
              "      <td>1778.0</td>\n",
              "      <td>49</td>\n",
              "    </tr>\n",
              "    <tr>\n",
              "      <th>2</th>\n",
              "      <td>0.0</td>\n",
              "      <td>RL</td>\n",
              "      <td>14267</td>\n",
              "      <td>Pave</td>\n",
              "      <td>0.0</td>\n",
              "      <td>Lvl</td>\n",
              "      <td>AllPub</td>\n",
              "      <td>Corner</td>\n",
              "      <td>0.0</td>\n",
              "      <td>NAmes</td>\n",
              "      <td>...</td>\n",
              "      <td>12500</td>\n",
              "      <td>2010</td>\n",
              "      <td>WD</td>\n",
              "      <td>Normal</td>\n",
              "      <td>1</td>\n",
              "      <td>1</td>\n",
              "      <td>2.0</td>\n",
              "      <td>36</td>\n",
              "      <td>2658.0</td>\n",
              "      <td>52</td>\n",
              "    </tr>\n",
              "    <tr>\n",
              "      <th>3</th>\n",
              "      <td>0.0</td>\n",
              "      <td>RL</td>\n",
              "      <td>11160</td>\n",
              "      <td>Pave</td>\n",
              "      <td>3.0</td>\n",
              "      <td>Lvl</td>\n",
              "      <td>AllPub</td>\n",
              "      <td>Corner</td>\n",
              "      <td>0.0</td>\n",
              "      <td>NAmes</td>\n",
              "      <td>...</td>\n",
              "      <td>0</td>\n",
              "      <td>2010</td>\n",
              "      <td>WD</td>\n",
              "      <td>Normal</td>\n",
              "      <td>1</td>\n",
              "      <td>1</td>\n",
              "      <td>4.0</td>\n",
              "      <td>0</td>\n",
              "      <td>4220.0</td>\n",
              "      <td>42</td>\n",
              "    </tr>\n",
              "    <tr>\n",
              "      <th>4</th>\n",
              "      <td>5.0</td>\n",
              "      <td>RL</td>\n",
              "      <td>13830</td>\n",
              "      <td>Pave</td>\n",
              "      <td>0.0</td>\n",
              "      <td>Lvl</td>\n",
              "      <td>AllPub</td>\n",
              "      <td>Inside</td>\n",
              "      <td>0.0</td>\n",
              "      <td>Gilbert</td>\n",
              "      <td>...</td>\n",
              "      <td>0</td>\n",
              "      <td>2010</td>\n",
              "      <td>WD</td>\n",
              "      <td>Normal</td>\n",
              "      <td>1</td>\n",
              "      <td>1</td>\n",
              "      <td>3.0</td>\n",
              "      <td>34</td>\n",
              "      <td>2557.0</td>\n",
              "      <td>13</td>\n",
              "    </tr>\n",
              "    <tr>\n",
              "      <th>...</th>\n",
              "      <td>...</td>\n",
              "      <td>...</td>\n",
              "      <td>...</td>\n",
              "      <td>...</td>\n",
              "      <td>...</td>\n",
              "      <td>...</td>\n",
              "      <td>...</td>\n",
              "      <td>...</td>\n",
              "      <td>...</td>\n",
              "      <td>...</td>\n",
              "      <td>...</td>\n",
              "      <td>...</td>\n",
              "      <td>...</td>\n",
              "      <td>...</td>\n",
              "      <td>...</td>\n",
              "      <td>...</td>\n",
              "      <td>...</td>\n",
              "      <td>...</td>\n",
              "      <td>...</td>\n",
              "      <td>...</td>\n",
              "      <td>...</td>\n",
              "    </tr>\n",
              "    <tr>\n",
              "      <th>2925</th>\n",
              "      <td>8.0</td>\n",
              "      <td>RL</td>\n",
              "      <td>7937</td>\n",
              "      <td>Pave</td>\n",
              "      <td>0.0</td>\n",
              "      <td>Lvl</td>\n",
              "      <td>AllPub</td>\n",
              "      <td>CulDSac</td>\n",
              "      <td>0.0</td>\n",
              "      <td>Mitchel</td>\n",
              "      <td>...</td>\n",
              "      <td>0</td>\n",
              "      <td>2006</td>\n",
              "      <td>WD</td>\n",
              "      <td>Normal</td>\n",
              "      <td>1</td>\n",
              "      <td>1</td>\n",
              "      <td>2.0</td>\n",
              "      <td>0</td>\n",
              "      <td>2006.0</td>\n",
              "      <td>22</td>\n",
              "    </tr>\n",
              "    <tr>\n",
              "      <th>2926</th>\n",
              "      <td>0.0</td>\n",
              "      <td>RL</td>\n",
              "      <td>8885</td>\n",
              "      <td>Pave</td>\n",
              "      <td>0.0</td>\n",
              "      <td>Low</td>\n",
              "      <td>AllPub</td>\n",
              "      <td>Inside</td>\n",
              "      <td>1.0</td>\n",
              "      <td>Mitchel</td>\n",
              "      <td>...</td>\n",
              "      <td>0</td>\n",
              "      <td>2006</td>\n",
              "      <td>WD</td>\n",
              "      <td>Normal</td>\n",
              "      <td>1</td>\n",
              "      <td>1</td>\n",
              "      <td>2.0</td>\n",
              "      <td>0</td>\n",
              "      <td>1766.0</td>\n",
              "      <td>23</td>\n",
              "    </tr>\n",
              "    <tr>\n",
              "      <th>2927</th>\n",
              "      <td>9.0</td>\n",
              "      <td>RL</td>\n",
              "      <td>10441</td>\n",
              "      <td>Pave</td>\n",
              "      <td>3.0</td>\n",
              "      <td>Lvl</td>\n",
              "      <td>AllPub</td>\n",
              "      <td>Inside</td>\n",
              "      <td>0.0</td>\n",
              "      <td>Mitchel</td>\n",
              "      <td>...</td>\n",
              "      <td>700</td>\n",
              "      <td>2006</td>\n",
              "      <td>WD</td>\n",
              "      <td>Normal</td>\n",
              "      <td>0</td>\n",
              "      <td>1</td>\n",
              "      <td>2.0</td>\n",
              "      <td>32</td>\n",
              "      <td>1882.0</td>\n",
              "      <td>14</td>\n",
              "    </tr>\n",
              "    <tr>\n",
              "      <th>2928</th>\n",
              "      <td>0.0</td>\n",
              "      <td>RL</td>\n",
              "      <td>10010</td>\n",
              "      <td>Pave</td>\n",
              "      <td>3.0</td>\n",
              "      <td>Lvl</td>\n",
              "      <td>AllPub</td>\n",
              "      <td>Inside</td>\n",
              "      <td>1.0</td>\n",
              "      <td>Mitchel</td>\n",
              "      <td>...</td>\n",
              "      <td>0</td>\n",
              "      <td>2006</td>\n",
              "      <td>WD</td>\n",
              "      <td>Normal</td>\n",
              "      <td>1</td>\n",
              "      <td>1</td>\n",
              "      <td>2.0</td>\n",
              "      <td>38</td>\n",
              "      <td>2778.0</td>\n",
              "      <td>32</td>\n",
              "    </tr>\n",
              "    <tr>\n",
              "      <th>2929</th>\n",
              "      <td>5.0</td>\n",
              "      <td>RL</td>\n",
              "      <td>9627</td>\n",
              "      <td>Pave</td>\n",
              "      <td>3.0</td>\n",
              "      <td>Lvl</td>\n",
              "      <td>AllPub</td>\n",
              "      <td>Inside</td>\n",
              "      <td>1.0</td>\n",
              "      <td>Mitchel</td>\n",
              "      <td>...</td>\n",
              "      <td>0</td>\n",
              "      <td>2006</td>\n",
              "      <td>WD</td>\n",
              "      <td>Normal</td>\n",
              "      <td>1</td>\n",
              "      <td>1</td>\n",
              "      <td>3.0</td>\n",
              "      <td>48</td>\n",
              "      <td>2996.0</td>\n",
              "      <td>13</td>\n",
              "    </tr>\n",
              "  </tbody>\n",
              "</table>\n",
              "<p>2930 rows × 46 columns</p>\n",
              "</div>\n",
              "    <div class=\"colab-df-buttons\">\n",
              "\n",
              "  <div class=\"colab-df-container\">\n",
              "    <button class=\"colab-df-convert\" onclick=\"convertToInteractive('df-2cb492d7-2a7f-45ef-8fbb-2c23a33a5b8f')\"\n",
              "            title=\"Convert this dataframe to an interactive table.\"\n",
              "            style=\"display:none;\">\n",
              "\n",
              "  <svg xmlns=\"http://www.w3.org/2000/svg\" height=\"24px\" viewBox=\"0 -960 960 960\">\n",
              "    <path d=\"M120-120v-720h720v720H120Zm60-500h600v-160H180v160Zm220 220h160v-160H400v160Zm0 220h160v-160H400v160ZM180-400h160v-160H180v160Zm440 0h160v-160H620v160ZM180-180h160v-160H180v160Zm440 0h160v-160H620v160Z\"/>\n",
              "  </svg>\n",
              "    </button>\n",
              "\n",
              "  <style>\n",
              "    .colab-df-container {\n",
              "      display:flex;\n",
              "      gap: 12px;\n",
              "    }\n",
              "\n",
              "    .colab-df-convert {\n",
              "      background-color: #E8F0FE;\n",
              "      border: none;\n",
              "      border-radius: 50%;\n",
              "      cursor: pointer;\n",
              "      display: none;\n",
              "      fill: #1967D2;\n",
              "      height: 32px;\n",
              "      padding: 0 0 0 0;\n",
              "      width: 32px;\n",
              "    }\n",
              "\n",
              "    .colab-df-convert:hover {\n",
              "      background-color: #E2EBFA;\n",
              "      box-shadow: 0px 1px 2px rgba(60, 64, 67, 0.3), 0px 1px 3px 1px rgba(60, 64, 67, 0.15);\n",
              "      fill: #174EA6;\n",
              "    }\n",
              "\n",
              "    .colab-df-buttons div {\n",
              "      margin-bottom: 4px;\n",
              "    }\n",
              "\n",
              "    [theme=dark] .colab-df-convert {\n",
              "      background-color: #3B4455;\n",
              "      fill: #D2E3FC;\n",
              "    }\n",
              "\n",
              "    [theme=dark] .colab-df-convert:hover {\n",
              "      background-color: #434B5C;\n",
              "      box-shadow: 0px 1px 3px 1px rgba(0, 0, 0, 0.15);\n",
              "      filter: drop-shadow(0px 1px 2px rgba(0, 0, 0, 0.3));\n",
              "      fill: #FFFFFF;\n",
              "    }\n",
              "  </style>\n",
              "\n",
              "    <script>\n",
              "      const buttonEl =\n",
              "        document.querySelector('#df-2cb492d7-2a7f-45ef-8fbb-2c23a33a5b8f button.colab-df-convert');\n",
              "      buttonEl.style.display =\n",
              "        google.colab.kernel.accessAllowed ? 'block' : 'none';\n",
              "\n",
              "      async function convertToInteractive(key) {\n",
              "        const element = document.querySelector('#df-2cb492d7-2a7f-45ef-8fbb-2c23a33a5b8f');\n",
              "        const dataTable =\n",
              "          await google.colab.kernel.invokeFunction('convertToInteractive',\n",
              "                                                    [key], {});\n",
              "        if (!dataTable) return;\n",
              "\n",
              "        const docLinkHtml = 'Like what you see? Visit the ' +\n",
              "          '<a target=\"_blank\" href=https://colab.research.google.com/notebooks/data_table.ipynb>data table notebook</a>'\n",
              "          + ' to learn more about interactive tables.';\n",
              "        element.innerHTML = '';\n",
              "        dataTable['output_type'] = 'display_data';\n",
              "        await google.colab.output.renderOutput(dataTable, element);\n",
              "        const docLink = document.createElement('div');\n",
              "        docLink.innerHTML = docLinkHtml;\n",
              "        element.appendChild(docLink);\n",
              "      }\n",
              "    </script>\n",
              "  </div>\n",
              "\n",
              "\n",
              "<div id=\"df-68cf7f08-0465-45dd-af97-450520166ce3\">\n",
              "  <button class=\"colab-df-quickchart\" onclick=\"quickchart('df-68cf7f08-0465-45dd-af97-450520166ce3')\"\n",
              "            title=\"Suggest charts\"\n",
              "            style=\"display:none;\">\n",
              "\n",
              "<svg xmlns=\"http://www.w3.org/2000/svg\" height=\"24px\"viewBox=\"0 0 24 24\"\n",
              "     width=\"24px\">\n",
              "    <g>\n",
              "        <path d=\"M19 3H5c-1.1 0-2 .9-2 2v14c0 1.1.9 2 2 2h14c1.1 0 2-.9 2-2V5c0-1.1-.9-2-2-2zM9 17H7v-7h2v7zm4 0h-2V7h2v10zm4 0h-2v-4h2v4z\"/>\n",
              "    </g>\n",
              "</svg>\n",
              "  </button>\n",
              "\n",
              "<style>\n",
              "  .colab-df-quickchart {\n",
              "      --bg-color: #E8F0FE;\n",
              "      --fill-color: #1967D2;\n",
              "      --hover-bg-color: #E2EBFA;\n",
              "      --hover-fill-color: #174EA6;\n",
              "      --disabled-fill-color: #AAA;\n",
              "      --disabled-bg-color: #DDD;\n",
              "  }\n",
              "\n",
              "  [theme=dark] .colab-df-quickchart {\n",
              "      --bg-color: #3B4455;\n",
              "      --fill-color: #D2E3FC;\n",
              "      --hover-bg-color: #434B5C;\n",
              "      --hover-fill-color: #FFFFFF;\n",
              "      --disabled-bg-color: #3B4455;\n",
              "      --disabled-fill-color: #666;\n",
              "  }\n",
              "\n",
              "  .colab-df-quickchart {\n",
              "    background-color: var(--bg-color);\n",
              "    border: none;\n",
              "    border-radius: 50%;\n",
              "    cursor: pointer;\n",
              "    display: none;\n",
              "    fill: var(--fill-color);\n",
              "    height: 32px;\n",
              "    padding: 0;\n",
              "    width: 32px;\n",
              "  }\n",
              "\n",
              "  .colab-df-quickchart:hover {\n",
              "    background-color: var(--hover-bg-color);\n",
              "    box-shadow: 0 1px 2px rgba(60, 64, 67, 0.3), 0 1px 3px 1px rgba(60, 64, 67, 0.15);\n",
              "    fill: var(--button-hover-fill-color);\n",
              "  }\n",
              "\n",
              "  .colab-df-quickchart-complete:disabled,\n",
              "  .colab-df-quickchart-complete:disabled:hover {\n",
              "    background-color: var(--disabled-bg-color);\n",
              "    fill: var(--disabled-fill-color);\n",
              "    box-shadow: none;\n",
              "  }\n",
              "\n",
              "  .colab-df-spinner {\n",
              "    border: 2px solid var(--fill-color);\n",
              "    border-color: transparent;\n",
              "    border-bottom-color: var(--fill-color);\n",
              "    animation:\n",
              "      spin 1s steps(1) infinite;\n",
              "  }\n",
              "\n",
              "  @keyframes spin {\n",
              "    0% {\n",
              "      border-color: transparent;\n",
              "      border-bottom-color: var(--fill-color);\n",
              "      border-left-color: var(--fill-color);\n",
              "    }\n",
              "    20% {\n",
              "      border-color: transparent;\n",
              "      border-left-color: var(--fill-color);\n",
              "      border-top-color: var(--fill-color);\n",
              "    }\n",
              "    30% {\n",
              "      border-color: transparent;\n",
              "      border-left-color: var(--fill-color);\n",
              "      border-top-color: var(--fill-color);\n",
              "      border-right-color: var(--fill-color);\n",
              "    }\n",
              "    40% {\n",
              "      border-color: transparent;\n",
              "      border-right-color: var(--fill-color);\n",
              "      border-top-color: var(--fill-color);\n",
              "    }\n",
              "    60% {\n",
              "      border-color: transparent;\n",
              "      border-right-color: var(--fill-color);\n",
              "    }\n",
              "    80% {\n",
              "      border-color: transparent;\n",
              "      border-right-color: var(--fill-color);\n",
              "      border-bottom-color: var(--fill-color);\n",
              "    }\n",
              "    90% {\n",
              "      border-color: transparent;\n",
              "      border-bottom-color: var(--fill-color);\n",
              "    }\n",
              "  }\n",
              "</style>\n",
              "\n",
              "  <script>\n",
              "    async function quickchart(key) {\n",
              "      const quickchartButtonEl =\n",
              "        document.querySelector('#' + key + ' button');\n",
              "      quickchartButtonEl.disabled = true;  // To prevent multiple clicks.\n",
              "      quickchartButtonEl.classList.add('colab-df-spinner');\n",
              "      try {\n",
              "        const charts = await google.colab.kernel.invokeFunction(\n",
              "            'suggestCharts', [key], {});\n",
              "      } catch (error) {\n",
              "        console.error('Error during call to suggestCharts:', error);\n",
              "      }\n",
              "      quickchartButtonEl.classList.remove('colab-df-spinner');\n",
              "      quickchartButtonEl.classList.add('colab-df-quickchart-complete');\n",
              "    }\n",
              "    (() => {\n",
              "      let quickchartButtonEl =\n",
              "        document.querySelector('#df-68cf7f08-0465-45dd-af97-450520166ce3 button');\n",
              "      quickchartButtonEl.style.display =\n",
              "        google.colab.kernel.accessAllowed ? 'block' : 'none';\n",
              "    })();\n",
              "  </script>\n",
              "</div>\n",
              "\n",
              "  <div id=\"id_72592e8a-d5ab-42fd-9554-8a5fc2fe3a42\">\n",
              "    <style>\n",
              "      .colab-df-generate {\n",
              "        background-color: #E8F0FE;\n",
              "        border: none;\n",
              "        border-radius: 50%;\n",
              "        cursor: pointer;\n",
              "        display: none;\n",
              "        fill: #1967D2;\n",
              "        height: 32px;\n",
              "        padding: 0 0 0 0;\n",
              "        width: 32px;\n",
              "      }\n",
              "\n",
              "      .colab-df-generate:hover {\n",
              "        background-color: #E2EBFA;\n",
              "        box-shadow: 0px 1px 2px rgba(60, 64, 67, 0.3), 0px 1px 3px 1px rgba(60, 64, 67, 0.15);\n",
              "        fill: #174EA6;\n",
              "      }\n",
              "\n",
              "      [theme=dark] .colab-df-generate {\n",
              "        background-color: #3B4455;\n",
              "        fill: #D2E3FC;\n",
              "      }\n",
              "\n",
              "      [theme=dark] .colab-df-generate:hover {\n",
              "        background-color: #434B5C;\n",
              "        box-shadow: 0px 1px 3px 1px rgba(0, 0, 0, 0.15);\n",
              "        filter: drop-shadow(0px 1px 2px rgba(0, 0, 0, 0.3));\n",
              "        fill: #FFFFFF;\n",
              "      }\n",
              "    </style>\n",
              "    <button class=\"colab-df-generate\" onclick=\"generateWithVariable('X')\"\n",
              "            title=\"Generate code using this dataframe.\"\n",
              "            style=\"display:none;\">\n",
              "\n",
              "  <svg xmlns=\"http://www.w3.org/2000/svg\" height=\"24px\"viewBox=\"0 0 24 24\"\n",
              "       width=\"24px\">\n",
              "    <path d=\"M7,19H8.4L18.45,9,17,7.55,7,17.6ZM5,21V16.75L18.45,3.32a2,2,0,0,1,2.83,0l1.4,1.43a1.91,1.91,0,0,1,.58,1.4,1.91,1.91,0,0,1-.58,1.4L9.25,21ZM18.45,9,17,7.55Zm-12,3A5.31,5.31,0,0,0,4.9,8.1,5.31,5.31,0,0,0,1,6.5,5.31,5.31,0,0,0,4.9,4.9,5.31,5.31,0,0,0,6.5,1,5.31,5.31,0,0,0,8.1,4.9,5.31,5.31,0,0,0,12,6.5,5.46,5.46,0,0,0,6.5,12Z\"/>\n",
              "  </svg>\n",
              "    </button>\n",
              "    <script>\n",
              "      (() => {\n",
              "      const buttonEl =\n",
              "        document.querySelector('#id_72592e8a-d5ab-42fd-9554-8a5fc2fe3a42 button.colab-df-generate');\n",
              "      buttonEl.style.display =\n",
              "        google.colab.kernel.accessAllowed ? 'block' : 'none';\n",
              "\n",
              "      buttonEl.onclick = () => {\n",
              "        google.colab.notebook.generateWithVariable('X');\n",
              "      }\n",
              "      })();\n",
              "    </script>\n",
              "  </div>\n",
              "\n",
              "    </div>\n",
              "  </div>\n"
            ],
            "application/vnd.google.colaboratory.intrinsic+json": {
              "type": "dataframe",
              "variable_name": "X"
            }
          },
          "metadata": {},
          "execution_count": 45
        }
      ]
    },
    {
      "cell_type": "code",
      "source": [
        "# from sklearn.preprocessing import LabelEncoder\n",
        "# label = LabelEncoder()\n",
        "# X['Street'] = label.fit_transform(X['Street'])\n",
        "# X"
      ],
      "metadata": {
        "id": "1XIhotL1oXCO"
      },
      "execution_count": null,
      "outputs": []
    },
    {
      "cell_type": "code",
      "source": [
        "# from sklearn.preprocessing import OneHotEncoder\n",
        "# encoder = OneHotEncoder()\n",
        "\n",
        "# #we convert to numpy ndarray\n",
        "# helper_array = encoder.fit_transform(X[['MS Zoning', 'Street', 'Lot Config']]).toarray()\n",
        "\n",
        "# encoded_df = pd.DataFrame(data = helper_array, columns = encoder.get_feature_names_out(['MS Zoning', 'Street', 'Lot Config']))\n",
        "\n",
        "\n",
        "# X = pd.concat([X, encoded_df], axis=1).drop(columns=['MS Zoning', 'Street', 'Lot Config'])"
      ],
      "metadata": {
        "id": "EgXTpkNwloDJ"
      },
      "execution_count": null,
      "outputs": []
    },
    {
      "cell_type": "code",
      "source": [
        "from sklearn.preprocessing import OneHotEncoder\n",
        "encoder = OneHotEncoder()\n",
        "\n",
        "#we convert to numpy ndarray\n",
        "helper_array = encoder.fit_transform(X[categorical_features]).toarray()\n",
        "\n",
        "encoded_df = pd.DataFrame(data = helper_array, columns = encoder.get_feature_names_out(categorical_features))\n",
        "\n",
        "\n",
        "X = pd.concat([X,encoded_df], axis=1).drop(columns=categorical_features)\n",
        "X"
      ],
      "metadata": {
        "colab": {
          "base_uri": "https://localhost:8080/",
          "height": 819
        },
        "id": "6x0z0j8VuoQ0",
        "outputId": "7e9e208f-fbd5-468c-f4b1-f181c58a52d7"
      },
      "execution_count": null,
      "outputs": [
        {
          "output_type": "execute_result",
          "data": {
            "text/plain": [
              "      MS SubClass  Lot Area  Lot Shape  Land Slope  Overall Qual  \\\n",
              "0             0.0     31770        0.0         0.0           5.0   \n",
              "1             0.0     11622        3.0         0.0           4.0   \n",
              "2             0.0     14267        0.0         0.0           5.0   \n",
              "3             0.0     11160        3.0         0.0           6.0   \n",
              "4             5.0     13830        0.0         0.0           4.0   \n",
              "...           ...       ...        ...         ...           ...   \n",
              "2925          8.0      7937        0.0         0.0           5.0   \n",
              "2926          0.0      8885        0.0         1.0           4.0   \n",
              "2927          9.0     10441        3.0         0.0           4.0   \n",
              "2928          0.0     10010        3.0         1.0           4.0   \n",
              "2929          5.0      9627        3.0         1.0           6.0   \n",
              "\n",
              "      Overall Cond  Year Built  Year Remod/Add  Mas Vnr Area  Exter Qual  ...  \\\n",
              "0              4.0        1960            1960         112.0         3.0  ...   \n",
              "1              5.0        1961            1961           0.0         3.0  ...   \n",
              "2              5.0        1958            1958         108.0         3.0  ...   \n",
              "3              4.0        1968            1968           0.0         2.0  ...   \n",
              "4              4.0        1997            1998           0.0         3.0  ...   \n",
              "...            ...         ...             ...           ...         ...  ...   \n",
              "2925           5.0        1984            1984           0.0         3.0  ...   \n",
              "2926           4.0        1983            1983           0.0         3.0  ...   \n",
              "2927           4.0        1992            1992           0.0         3.0  ...   \n",
              "2928           4.0        1974            1975           0.0         3.0  ...   \n",
              "2929           4.0        1993            1994          94.0         3.0  ...   \n",
              "\n",
              "      Sale Type_New  Sale Type_Oth  Sale Type_VWD  Sale Type_WD   \\\n",
              "0               0.0            0.0            0.0            1.0   \n",
              "1               0.0            0.0            0.0            1.0   \n",
              "2               0.0            0.0            0.0            1.0   \n",
              "3               0.0            0.0            0.0            1.0   \n",
              "4               0.0            0.0            0.0            1.0   \n",
              "...             ...            ...            ...            ...   \n",
              "2925            0.0            0.0            0.0            1.0   \n",
              "2926            0.0            0.0            0.0            1.0   \n",
              "2927            0.0            0.0            0.0            1.0   \n",
              "2928            0.0            0.0            0.0            1.0   \n",
              "2929            0.0            0.0            0.0            1.0   \n",
              "\n",
              "      Sale Condition_Abnorml  Sale Condition_AdjLand  Sale Condition_Alloca  \\\n",
              "0                        0.0                     0.0                    0.0   \n",
              "1                        0.0                     0.0                    0.0   \n",
              "2                        0.0                     0.0                    0.0   \n",
              "3                        0.0                     0.0                    0.0   \n",
              "4                        0.0                     0.0                    0.0   \n",
              "...                      ...                     ...                    ...   \n",
              "2925                     0.0                     0.0                    0.0   \n",
              "2926                     0.0                     0.0                    0.0   \n",
              "2927                     0.0                     0.0                    0.0   \n",
              "2928                     0.0                     0.0                    0.0   \n",
              "2929                     0.0                     0.0                    0.0   \n",
              "\n",
              "      Sale Condition_Family  Sale Condition_Normal  Sale Condition_Partial  \n",
              "0                       0.0                    1.0                     0.0  \n",
              "1                       0.0                    1.0                     0.0  \n",
              "2                       0.0                    1.0                     0.0  \n",
              "3                       0.0                    1.0                     0.0  \n",
              "4                       0.0                    1.0                     0.0  \n",
              "...                     ...                    ...                     ...  \n",
              "2925                    0.0                    1.0                     0.0  \n",
              "2926                    0.0                    1.0                     0.0  \n",
              "2927                    0.0                    1.0                     0.0  \n",
              "2928                    0.0                    1.0                     0.0  \n",
              "2929                    0.0                    1.0                     0.0  \n",
              "\n",
              "[2930 rows x 193 columns]"
            ],
            "text/html": [
              "\n",
              "  <div id=\"df-8da4346b-a453-4cc9-89c0-c3aec5a119dc\" class=\"colab-df-container\">\n",
              "    <div>\n",
              "<style scoped>\n",
              "    .dataframe tbody tr th:only-of-type {\n",
              "        vertical-align: middle;\n",
              "    }\n",
              "\n",
              "    .dataframe tbody tr th {\n",
              "        vertical-align: top;\n",
              "    }\n",
              "\n",
              "    .dataframe thead th {\n",
              "        text-align: right;\n",
              "    }\n",
              "</style>\n",
              "<table border=\"1\" class=\"dataframe\">\n",
              "  <thead>\n",
              "    <tr style=\"text-align: right;\">\n",
              "      <th></th>\n",
              "      <th>MS SubClass</th>\n",
              "      <th>Lot Area</th>\n",
              "      <th>Lot Shape</th>\n",
              "      <th>Land Slope</th>\n",
              "      <th>Overall Qual</th>\n",
              "      <th>Overall Cond</th>\n",
              "      <th>Year Built</th>\n",
              "      <th>Year Remod/Add</th>\n",
              "      <th>Mas Vnr Area</th>\n",
              "      <th>Exter Qual</th>\n",
              "      <th>...</th>\n",
              "      <th>Sale Type_New</th>\n",
              "      <th>Sale Type_Oth</th>\n",
              "      <th>Sale Type_VWD</th>\n",
              "      <th>Sale Type_WD</th>\n",
              "      <th>Sale Condition_Abnorml</th>\n",
              "      <th>Sale Condition_AdjLand</th>\n",
              "      <th>Sale Condition_Alloca</th>\n",
              "      <th>Sale Condition_Family</th>\n",
              "      <th>Sale Condition_Normal</th>\n",
              "      <th>Sale Condition_Partial</th>\n",
              "    </tr>\n",
              "  </thead>\n",
              "  <tbody>\n",
              "    <tr>\n",
              "      <th>0</th>\n",
              "      <td>0.0</td>\n",
              "      <td>31770</td>\n",
              "      <td>0.0</td>\n",
              "      <td>0.0</td>\n",
              "      <td>5.0</td>\n",
              "      <td>4.0</td>\n",
              "      <td>1960</td>\n",
              "      <td>1960</td>\n",
              "      <td>112.0</td>\n",
              "      <td>3.0</td>\n",
              "      <td>...</td>\n",
              "      <td>0.0</td>\n",
              "      <td>0.0</td>\n",
              "      <td>0.0</td>\n",
              "      <td>1.0</td>\n",
              "      <td>0.0</td>\n",
              "      <td>0.0</td>\n",
              "      <td>0.0</td>\n",
              "      <td>0.0</td>\n",
              "      <td>1.0</td>\n",
              "      <td>0.0</td>\n",
              "    </tr>\n",
              "    <tr>\n",
              "      <th>1</th>\n",
              "      <td>0.0</td>\n",
              "      <td>11622</td>\n",
              "      <td>3.0</td>\n",
              "      <td>0.0</td>\n",
              "      <td>4.0</td>\n",
              "      <td>5.0</td>\n",
              "      <td>1961</td>\n",
              "      <td>1961</td>\n",
              "      <td>0.0</td>\n",
              "      <td>3.0</td>\n",
              "      <td>...</td>\n",
              "      <td>0.0</td>\n",
              "      <td>0.0</td>\n",
              "      <td>0.0</td>\n",
              "      <td>1.0</td>\n",
              "      <td>0.0</td>\n",
              "      <td>0.0</td>\n",
              "      <td>0.0</td>\n",
              "      <td>0.0</td>\n",
              "      <td>1.0</td>\n",
              "      <td>0.0</td>\n",
              "    </tr>\n",
              "    <tr>\n",
              "      <th>2</th>\n",
              "      <td>0.0</td>\n",
              "      <td>14267</td>\n",
              "      <td>0.0</td>\n",
              "      <td>0.0</td>\n",
              "      <td>5.0</td>\n",
              "      <td>5.0</td>\n",
              "      <td>1958</td>\n",
              "      <td>1958</td>\n",
              "      <td>108.0</td>\n",
              "      <td>3.0</td>\n",
              "      <td>...</td>\n",
              "      <td>0.0</td>\n",
              "      <td>0.0</td>\n",
              "      <td>0.0</td>\n",
              "      <td>1.0</td>\n",
              "      <td>0.0</td>\n",
              "      <td>0.0</td>\n",
              "      <td>0.0</td>\n",
              "      <td>0.0</td>\n",
              "      <td>1.0</td>\n",
              "      <td>0.0</td>\n",
              "    </tr>\n",
              "    <tr>\n",
              "      <th>3</th>\n",
              "      <td>0.0</td>\n",
              "      <td>11160</td>\n",
              "      <td>3.0</td>\n",
              "      <td>0.0</td>\n",
              "      <td>6.0</td>\n",
              "      <td>4.0</td>\n",
              "      <td>1968</td>\n",
              "      <td>1968</td>\n",
              "      <td>0.0</td>\n",
              "      <td>2.0</td>\n",
              "      <td>...</td>\n",
              "      <td>0.0</td>\n",
              "      <td>0.0</td>\n",
              "      <td>0.0</td>\n",
              "      <td>1.0</td>\n",
              "      <td>0.0</td>\n",
              "      <td>0.0</td>\n",
              "      <td>0.0</td>\n",
              "      <td>0.0</td>\n",
              "      <td>1.0</td>\n",
              "      <td>0.0</td>\n",
              "    </tr>\n",
              "    <tr>\n",
              "      <th>4</th>\n",
              "      <td>5.0</td>\n",
              "      <td>13830</td>\n",
              "      <td>0.0</td>\n",
              "      <td>0.0</td>\n",
              "      <td>4.0</td>\n",
              "      <td>4.0</td>\n",
              "      <td>1997</td>\n",
              "      <td>1998</td>\n",
              "      <td>0.0</td>\n",
              "      <td>3.0</td>\n",
              "      <td>...</td>\n",
              "      <td>0.0</td>\n",
              "      <td>0.0</td>\n",
              "      <td>0.0</td>\n",
              "      <td>1.0</td>\n",
              "      <td>0.0</td>\n",
              "      <td>0.0</td>\n",
              "      <td>0.0</td>\n",
              "      <td>0.0</td>\n",
              "      <td>1.0</td>\n",
              "      <td>0.0</td>\n",
              "    </tr>\n",
              "    <tr>\n",
              "      <th>...</th>\n",
              "      <td>...</td>\n",
              "      <td>...</td>\n",
              "      <td>...</td>\n",
              "      <td>...</td>\n",
              "      <td>...</td>\n",
              "      <td>...</td>\n",
              "      <td>...</td>\n",
              "      <td>...</td>\n",
              "      <td>...</td>\n",
              "      <td>...</td>\n",
              "      <td>...</td>\n",
              "      <td>...</td>\n",
              "      <td>...</td>\n",
              "      <td>...</td>\n",
              "      <td>...</td>\n",
              "      <td>...</td>\n",
              "      <td>...</td>\n",
              "      <td>...</td>\n",
              "      <td>...</td>\n",
              "      <td>...</td>\n",
              "      <td>...</td>\n",
              "    </tr>\n",
              "    <tr>\n",
              "      <th>2925</th>\n",
              "      <td>8.0</td>\n",
              "      <td>7937</td>\n",
              "      <td>0.0</td>\n",
              "      <td>0.0</td>\n",
              "      <td>5.0</td>\n",
              "      <td>5.0</td>\n",
              "      <td>1984</td>\n",
              "      <td>1984</td>\n",
              "      <td>0.0</td>\n",
              "      <td>3.0</td>\n",
              "      <td>...</td>\n",
              "      <td>0.0</td>\n",
              "      <td>0.0</td>\n",
              "      <td>0.0</td>\n",
              "      <td>1.0</td>\n",
              "      <td>0.0</td>\n",
              "      <td>0.0</td>\n",
              "      <td>0.0</td>\n",
              "      <td>0.0</td>\n",
              "      <td>1.0</td>\n",
              "      <td>0.0</td>\n",
              "    </tr>\n",
              "    <tr>\n",
              "      <th>2926</th>\n",
              "      <td>0.0</td>\n",
              "      <td>8885</td>\n",
              "      <td>0.0</td>\n",
              "      <td>1.0</td>\n",
              "      <td>4.0</td>\n",
              "      <td>4.0</td>\n",
              "      <td>1983</td>\n",
              "      <td>1983</td>\n",
              "      <td>0.0</td>\n",
              "      <td>3.0</td>\n",
              "      <td>...</td>\n",
              "      <td>0.0</td>\n",
              "      <td>0.0</td>\n",
              "      <td>0.0</td>\n",
              "      <td>1.0</td>\n",
              "      <td>0.0</td>\n",
              "      <td>0.0</td>\n",
              "      <td>0.0</td>\n",
              "      <td>0.0</td>\n",
              "      <td>1.0</td>\n",
              "      <td>0.0</td>\n",
              "    </tr>\n",
              "    <tr>\n",
              "      <th>2927</th>\n",
              "      <td>9.0</td>\n",
              "      <td>10441</td>\n",
              "      <td>3.0</td>\n",
              "      <td>0.0</td>\n",
              "      <td>4.0</td>\n",
              "      <td>4.0</td>\n",
              "      <td>1992</td>\n",
              "      <td>1992</td>\n",
              "      <td>0.0</td>\n",
              "      <td>3.0</td>\n",
              "      <td>...</td>\n",
              "      <td>0.0</td>\n",
              "      <td>0.0</td>\n",
              "      <td>0.0</td>\n",
              "      <td>1.0</td>\n",
              "      <td>0.0</td>\n",
              "      <td>0.0</td>\n",
              "      <td>0.0</td>\n",
              "      <td>0.0</td>\n",
              "      <td>1.0</td>\n",
              "      <td>0.0</td>\n",
              "    </tr>\n",
              "    <tr>\n",
              "      <th>2928</th>\n",
              "      <td>0.0</td>\n",
              "      <td>10010</td>\n",
              "      <td>3.0</td>\n",
              "      <td>1.0</td>\n",
              "      <td>4.0</td>\n",
              "      <td>4.0</td>\n",
              "      <td>1974</td>\n",
              "      <td>1975</td>\n",
              "      <td>0.0</td>\n",
              "      <td>3.0</td>\n",
              "      <td>...</td>\n",
              "      <td>0.0</td>\n",
              "      <td>0.0</td>\n",
              "      <td>0.0</td>\n",
              "      <td>1.0</td>\n",
              "      <td>0.0</td>\n",
              "      <td>0.0</td>\n",
              "      <td>0.0</td>\n",
              "      <td>0.0</td>\n",
              "      <td>1.0</td>\n",
              "      <td>0.0</td>\n",
              "    </tr>\n",
              "    <tr>\n",
              "      <th>2929</th>\n",
              "      <td>5.0</td>\n",
              "      <td>9627</td>\n",
              "      <td>3.0</td>\n",
              "      <td>1.0</td>\n",
              "      <td>6.0</td>\n",
              "      <td>4.0</td>\n",
              "      <td>1993</td>\n",
              "      <td>1994</td>\n",
              "      <td>94.0</td>\n",
              "      <td>3.0</td>\n",
              "      <td>...</td>\n",
              "      <td>0.0</td>\n",
              "      <td>0.0</td>\n",
              "      <td>0.0</td>\n",
              "      <td>1.0</td>\n",
              "      <td>0.0</td>\n",
              "      <td>0.0</td>\n",
              "      <td>0.0</td>\n",
              "      <td>0.0</td>\n",
              "      <td>1.0</td>\n",
              "      <td>0.0</td>\n",
              "    </tr>\n",
              "  </tbody>\n",
              "</table>\n",
              "<p>2930 rows × 193 columns</p>\n",
              "</div>\n",
              "    <div class=\"colab-df-buttons\">\n",
              "\n",
              "  <div class=\"colab-df-container\">\n",
              "    <button class=\"colab-df-convert\" onclick=\"convertToInteractive('df-8da4346b-a453-4cc9-89c0-c3aec5a119dc')\"\n",
              "            title=\"Convert this dataframe to an interactive table.\"\n",
              "            style=\"display:none;\">\n",
              "\n",
              "  <svg xmlns=\"http://www.w3.org/2000/svg\" height=\"24px\" viewBox=\"0 -960 960 960\">\n",
              "    <path d=\"M120-120v-720h720v720H120Zm60-500h600v-160H180v160Zm220 220h160v-160H400v160Zm0 220h160v-160H400v160ZM180-400h160v-160H180v160Zm440 0h160v-160H620v160ZM180-180h160v-160H180v160Zm440 0h160v-160H620v160Z\"/>\n",
              "  </svg>\n",
              "    </button>\n",
              "\n",
              "  <style>\n",
              "    .colab-df-container {\n",
              "      display:flex;\n",
              "      gap: 12px;\n",
              "    }\n",
              "\n",
              "    .colab-df-convert {\n",
              "      background-color: #E8F0FE;\n",
              "      border: none;\n",
              "      border-radius: 50%;\n",
              "      cursor: pointer;\n",
              "      display: none;\n",
              "      fill: #1967D2;\n",
              "      height: 32px;\n",
              "      padding: 0 0 0 0;\n",
              "      width: 32px;\n",
              "    }\n",
              "\n",
              "    .colab-df-convert:hover {\n",
              "      background-color: #E2EBFA;\n",
              "      box-shadow: 0px 1px 2px rgba(60, 64, 67, 0.3), 0px 1px 3px 1px rgba(60, 64, 67, 0.15);\n",
              "      fill: #174EA6;\n",
              "    }\n",
              "\n",
              "    .colab-df-buttons div {\n",
              "      margin-bottom: 4px;\n",
              "    }\n",
              "\n",
              "    [theme=dark] .colab-df-convert {\n",
              "      background-color: #3B4455;\n",
              "      fill: #D2E3FC;\n",
              "    }\n",
              "\n",
              "    [theme=dark] .colab-df-convert:hover {\n",
              "      background-color: #434B5C;\n",
              "      box-shadow: 0px 1px 3px 1px rgba(0, 0, 0, 0.15);\n",
              "      filter: drop-shadow(0px 1px 2px rgba(0, 0, 0, 0.3));\n",
              "      fill: #FFFFFF;\n",
              "    }\n",
              "  </style>\n",
              "\n",
              "    <script>\n",
              "      const buttonEl =\n",
              "        document.querySelector('#df-8da4346b-a453-4cc9-89c0-c3aec5a119dc button.colab-df-convert');\n",
              "      buttonEl.style.display =\n",
              "        google.colab.kernel.accessAllowed ? 'block' : 'none';\n",
              "\n",
              "      async function convertToInteractive(key) {\n",
              "        const element = document.querySelector('#df-8da4346b-a453-4cc9-89c0-c3aec5a119dc');\n",
              "        const dataTable =\n",
              "          await google.colab.kernel.invokeFunction('convertToInteractive',\n",
              "                                                    [key], {});\n",
              "        if (!dataTable) return;\n",
              "\n",
              "        const docLinkHtml = 'Like what you see? Visit the ' +\n",
              "          '<a target=\"_blank\" href=https://colab.research.google.com/notebooks/data_table.ipynb>data table notebook</a>'\n",
              "          + ' to learn more about interactive tables.';\n",
              "        element.innerHTML = '';\n",
              "        dataTable['output_type'] = 'display_data';\n",
              "        await google.colab.output.renderOutput(dataTable, element);\n",
              "        const docLink = document.createElement('div');\n",
              "        docLink.innerHTML = docLinkHtml;\n",
              "        element.appendChild(docLink);\n",
              "      }\n",
              "    </script>\n",
              "  </div>\n",
              "\n",
              "\n",
              "<div id=\"df-0d2428d0-8864-4a90-9886-5793c1ecc480\">\n",
              "  <button class=\"colab-df-quickchart\" onclick=\"quickchart('df-0d2428d0-8864-4a90-9886-5793c1ecc480')\"\n",
              "            title=\"Suggest charts\"\n",
              "            style=\"display:none;\">\n",
              "\n",
              "<svg xmlns=\"http://www.w3.org/2000/svg\" height=\"24px\"viewBox=\"0 0 24 24\"\n",
              "     width=\"24px\">\n",
              "    <g>\n",
              "        <path d=\"M19 3H5c-1.1 0-2 .9-2 2v14c0 1.1.9 2 2 2h14c1.1 0 2-.9 2-2V5c0-1.1-.9-2-2-2zM9 17H7v-7h2v7zm4 0h-2V7h2v10zm4 0h-2v-4h2v4z\"/>\n",
              "    </g>\n",
              "</svg>\n",
              "  </button>\n",
              "\n",
              "<style>\n",
              "  .colab-df-quickchart {\n",
              "      --bg-color: #E8F0FE;\n",
              "      --fill-color: #1967D2;\n",
              "      --hover-bg-color: #E2EBFA;\n",
              "      --hover-fill-color: #174EA6;\n",
              "      --disabled-fill-color: #AAA;\n",
              "      --disabled-bg-color: #DDD;\n",
              "  }\n",
              "\n",
              "  [theme=dark] .colab-df-quickchart {\n",
              "      --bg-color: #3B4455;\n",
              "      --fill-color: #D2E3FC;\n",
              "      --hover-bg-color: #434B5C;\n",
              "      --hover-fill-color: #FFFFFF;\n",
              "      --disabled-bg-color: #3B4455;\n",
              "      --disabled-fill-color: #666;\n",
              "  }\n",
              "\n",
              "  .colab-df-quickchart {\n",
              "    background-color: var(--bg-color);\n",
              "    border: none;\n",
              "    border-radius: 50%;\n",
              "    cursor: pointer;\n",
              "    display: none;\n",
              "    fill: var(--fill-color);\n",
              "    height: 32px;\n",
              "    padding: 0;\n",
              "    width: 32px;\n",
              "  }\n",
              "\n",
              "  .colab-df-quickchart:hover {\n",
              "    background-color: var(--hover-bg-color);\n",
              "    box-shadow: 0 1px 2px rgba(60, 64, 67, 0.3), 0 1px 3px 1px rgba(60, 64, 67, 0.15);\n",
              "    fill: var(--button-hover-fill-color);\n",
              "  }\n",
              "\n",
              "  .colab-df-quickchart-complete:disabled,\n",
              "  .colab-df-quickchart-complete:disabled:hover {\n",
              "    background-color: var(--disabled-bg-color);\n",
              "    fill: var(--disabled-fill-color);\n",
              "    box-shadow: none;\n",
              "  }\n",
              "\n",
              "  .colab-df-spinner {\n",
              "    border: 2px solid var(--fill-color);\n",
              "    border-color: transparent;\n",
              "    border-bottom-color: var(--fill-color);\n",
              "    animation:\n",
              "      spin 1s steps(1) infinite;\n",
              "  }\n",
              "\n",
              "  @keyframes spin {\n",
              "    0% {\n",
              "      border-color: transparent;\n",
              "      border-bottom-color: var(--fill-color);\n",
              "      border-left-color: var(--fill-color);\n",
              "    }\n",
              "    20% {\n",
              "      border-color: transparent;\n",
              "      border-left-color: var(--fill-color);\n",
              "      border-top-color: var(--fill-color);\n",
              "    }\n",
              "    30% {\n",
              "      border-color: transparent;\n",
              "      border-left-color: var(--fill-color);\n",
              "      border-top-color: var(--fill-color);\n",
              "      border-right-color: var(--fill-color);\n",
              "    }\n",
              "    40% {\n",
              "      border-color: transparent;\n",
              "      border-right-color: var(--fill-color);\n",
              "      border-top-color: var(--fill-color);\n",
              "    }\n",
              "    60% {\n",
              "      border-color: transparent;\n",
              "      border-right-color: var(--fill-color);\n",
              "    }\n",
              "    80% {\n",
              "      border-color: transparent;\n",
              "      border-right-color: var(--fill-color);\n",
              "      border-bottom-color: var(--fill-color);\n",
              "    }\n",
              "    90% {\n",
              "      border-color: transparent;\n",
              "      border-bottom-color: var(--fill-color);\n",
              "    }\n",
              "  }\n",
              "</style>\n",
              "\n",
              "  <script>\n",
              "    async function quickchart(key) {\n",
              "      const quickchartButtonEl =\n",
              "        document.querySelector('#' + key + ' button');\n",
              "      quickchartButtonEl.disabled = true;  // To prevent multiple clicks.\n",
              "      quickchartButtonEl.classList.add('colab-df-spinner');\n",
              "      try {\n",
              "        const charts = await google.colab.kernel.invokeFunction(\n",
              "            'suggestCharts', [key], {});\n",
              "      } catch (error) {\n",
              "        console.error('Error during call to suggestCharts:', error);\n",
              "      }\n",
              "      quickchartButtonEl.classList.remove('colab-df-spinner');\n",
              "      quickchartButtonEl.classList.add('colab-df-quickchart-complete');\n",
              "    }\n",
              "    (() => {\n",
              "      let quickchartButtonEl =\n",
              "        document.querySelector('#df-0d2428d0-8864-4a90-9886-5793c1ecc480 button');\n",
              "      quickchartButtonEl.style.display =\n",
              "        google.colab.kernel.accessAllowed ? 'block' : 'none';\n",
              "    })();\n",
              "  </script>\n",
              "</div>\n",
              "\n",
              "  <div id=\"id_30ad78a6-9c60-41c0-8fcd-07528381e4c3\">\n",
              "    <style>\n",
              "      .colab-df-generate {\n",
              "        background-color: #E8F0FE;\n",
              "        border: none;\n",
              "        border-radius: 50%;\n",
              "        cursor: pointer;\n",
              "        display: none;\n",
              "        fill: #1967D2;\n",
              "        height: 32px;\n",
              "        padding: 0 0 0 0;\n",
              "        width: 32px;\n",
              "      }\n",
              "\n",
              "      .colab-df-generate:hover {\n",
              "        background-color: #E2EBFA;\n",
              "        box-shadow: 0px 1px 2px rgba(60, 64, 67, 0.3), 0px 1px 3px 1px rgba(60, 64, 67, 0.15);\n",
              "        fill: #174EA6;\n",
              "      }\n",
              "\n",
              "      [theme=dark] .colab-df-generate {\n",
              "        background-color: #3B4455;\n",
              "        fill: #D2E3FC;\n",
              "      }\n",
              "\n",
              "      [theme=dark] .colab-df-generate:hover {\n",
              "        background-color: #434B5C;\n",
              "        box-shadow: 0px 1px 3px 1px rgba(0, 0, 0, 0.15);\n",
              "        filter: drop-shadow(0px 1px 2px rgba(0, 0, 0, 0.3));\n",
              "        fill: #FFFFFF;\n",
              "      }\n",
              "    </style>\n",
              "    <button class=\"colab-df-generate\" onclick=\"generateWithVariable('X')\"\n",
              "            title=\"Generate code using this dataframe.\"\n",
              "            style=\"display:none;\">\n",
              "\n",
              "  <svg xmlns=\"http://www.w3.org/2000/svg\" height=\"24px\"viewBox=\"0 0 24 24\"\n",
              "       width=\"24px\">\n",
              "    <path d=\"M7,19H8.4L18.45,9,17,7.55,7,17.6ZM5,21V16.75L18.45,3.32a2,2,0,0,1,2.83,0l1.4,1.43a1.91,1.91,0,0,1,.58,1.4,1.91,1.91,0,0,1-.58,1.4L9.25,21ZM18.45,9,17,7.55Zm-12,3A5.31,5.31,0,0,0,4.9,8.1,5.31,5.31,0,0,0,1,6.5,5.31,5.31,0,0,0,4.9,4.9,5.31,5.31,0,0,0,6.5,1,5.31,5.31,0,0,0,8.1,4.9,5.31,5.31,0,0,0,12,6.5,5.46,5.46,0,0,0,6.5,12Z\"/>\n",
              "  </svg>\n",
              "    </button>\n",
              "    <script>\n",
              "      (() => {\n",
              "      const buttonEl =\n",
              "        document.querySelector('#id_30ad78a6-9c60-41c0-8fcd-07528381e4c3 button.colab-df-generate');\n",
              "      buttonEl.style.display =\n",
              "        google.colab.kernel.accessAllowed ? 'block' : 'none';\n",
              "\n",
              "      buttonEl.onclick = () => {\n",
              "        google.colab.notebook.generateWithVariable('X');\n",
              "      }\n",
              "      })();\n",
              "    </script>\n",
              "  </div>\n",
              "\n",
              "    </div>\n",
              "  </div>\n"
            ],
            "application/vnd.google.colaboratory.intrinsic+json": {
              "type": "dataframe",
              "variable_name": "X"
            }
          },
          "metadata": {},
          "execution_count": 48
        },
        {
          "output_type": "stream",
          "name": "stdout",
          "text": [
            "Warning: Total number of columns (193) exceeds max_columns (20) limiting to first (20) columns.\n",
            "Error: Runtime no longer has a reference to this dataframe, please re-run this cell and try again.\n",
            "Error: Runtime no longer has a reference to this dataframe, please re-run this cell and try again.\n",
            "Error: Runtime no longer has a reference to this dataframe, please re-run this cell and try again.\n"
          ]
        }
      ]
    },
    {
      "cell_type": "markdown",
      "source": [
        "##**Standardize or normalize continuous variables**"
      ],
      "metadata": {
        "id": "ptKHAxqP2anK"
      }
    },
    {
      "cell_type": "code",
      "source": [
        "from sklearn.model_selection import train_test_split\n",
        "\n",
        "X_train, X_test, y_train, y_test = train_test_split(X, y, test_size=0.25, random_state=42)"
      ],
      "metadata": {
        "id": "ylt6Ku-33Y7D"
      },
      "execution_count": null,
      "outputs": []
    },
    {
      "cell_type": "code",
      "source": [
        "#another way\n",
        "#continuous_features = continuous_features.remove('MS SubClass')\n",
        "from sklearn.preprocessing import StandardScaler\n",
        "\n",
        "scaler = StandardScaler()\n",
        "X_train[['Lot Area', 'Year Built', 'Year Remod/Add', 'Mas Vnr Area', 'TotRms AbvGrd', 'Fireplaces', 'Garage Area', 'Wood Deck SF', 'Pool Area', 'Misc Val', 'Yr Sold']] = scaler.fit_transform(X_train[['Lot Area', 'Year Built', 'Year Remod/Add', 'Mas Vnr Area', 'TotRms AbvGrd', 'Fireplaces', 'Garage Area', 'Wood Deck SF', 'Pool Area', 'Misc Val', 'Yr Sold']])\n",
        "X_test[['Lot Area', 'Year Built', 'Year Remod/Add', 'Mas Vnr Area', 'TotRms AbvGrd', 'Fireplaces', 'Garage Area', 'Wood Deck SF', 'Pool Area', 'Misc Val', 'Yr Sold']] = scaler.transform(X_test[['Lot Area', 'Year Built', 'Year Remod/Add', 'Mas Vnr Area', 'TotRms AbvGrd', 'Fireplaces', 'Garage Area', 'Wood Deck SF', 'Pool Area', 'Misc Val', 'Yr Sold']])\n"
      ],
      "metadata": {
        "id": "iUPuE-9t2sFp"
      },
      "execution_count": null,
      "outputs": []
    },
    {
      "cell_type": "markdown",
      "source": [
        "#Model Training\n"
      ],
      "metadata": {
        "id": "v8hzj1EV-BuS"
      }
    },
    {
      "cell_type": "markdown",
      "source": [
        "###Linear Regression\n"
      ],
      "metadata": {
        "id": "SLm0RBodLWf0"
      }
    },
    {
      "cell_type": "code",
      "source": [
        "from sklearn.linear_model import LinearRegression\n",
        "from sklearn.metrics import r2_score\n",
        "\n",
        "lr = LinearRegression()\n",
        "lr.fit(X_train, y_train)\n",
        "\n",
        "y_pred = lr.predict(X_test)\n",
        "r2_lr = r2_score(y_test, y_pred)\n",
        "\n",
        "print(\"<-------------------------------------------------->\")\n",
        "print(f\"R2 score   : {r2_lr}\")\n",
        "print(\"<-------------------------------------------------->\")\n",
        "print(f\"Train Score: {lr.score(X_train, y_train)}\")\n",
        "print(f\"Test Score : {lr.score(X_test, y_test)}\")"
      ],
      "metadata": {
        "colab": {
          "base_uri": "https://localhost:8080/"
        },
        "id": "qhsOu4xj93fi",
        "outputId": "e3105d62-11b2-4aa4-ee14-ebd2885b9fe5"
      },
      "execution_count": null,
      "outputs": [
        {
          "output_type": "stream",
          "name": "stdout",
          "text": [
            "<-------------------------------------------------->\n",
            "R2 score   : 0.8653256667848432\n",
            "<-------------------------------------------------->\n",
            "Train Score: 0.9080808289013618\n",
            "Test Score : 0.8653256667848432\n"
          ]
        }
      ]
    },
    {
      "cell_type": "markdown",
      "source": [
        "\n",
        "\n",
        "* R2 score, a high score of  [0.86] indicates that the model explains a significant amount of the variance in the data.\n",
        "*   Train score [0.91] is a little bit higher than the test score [0.86] suggesting a great generalization with minimal overfitting.\n",
        "\n"
      ],
      "metadata": {
        "id": "6TsoiuekzZ7G"
      }
    },
    {
      "cell_type": "markdown",
      "source": [
        "####Ridge Regression // L2 regularization\n"
      ],
      "metadata": {
        "id": "HR-COl10LZkU"
      }
    },
    {
      "cell_type": "code",
      "source": [
        "from sklearn.linear_model import Ridge\n",
        "from sklearn.metrics import r2_score\n",
        "\n",
        "rdg = Ridge(alpha = 0.1)\n",
        "rdg.fit(X_train, y_train)\n",
        "\n",
        "y_pred = rdg.predict(X_test)\n",
        "r2_rdg = r2_score(y_test, y_pred)\n",
        "\n",
        "print(\"<-------------------------------------------------->\")\n",
        "print(f\"R2 score   : {r2_rdg}\")\n",
        "print(\"<-------------------------------------------------->\")\n",
        "print(f\"Train Score: {rdg.score(X_train, y_train)}\")\n",
        "print(f\"Test Score : {rdg.score(X_test, y_test)}\")"
      ],
      "metadata": {
        "colab": {
          "base_uri": "https://localhost:8080/"
        },
        "id": "CzmOYoPB1Xte",
        "outputId": "35c7e75b-eedb-4ef4-9537-85297e0b520b"
      },
      "execution_count": null,
      "outputs": [
        {
          "output_type": "stream",
          "name": "stdout",
          "text": [
            "<-------------------------------------------------->\n",
            "R2 score   : 0.8694861933902313\n",
            "<-------------------------------------------------->\n",
            "Train Score: 0.8978208110257397\n",
            "Test Score : 0.8694861933902313\n"
          ]
        }
      ]
    },
    {
      "cell_type": "markdown",
      "source": [
        "\n",
        "\n",
        "*   Train score [0.89] and Test score [0.87] are closer, indicating reduced overfitting.\n",
        "*   Regularization helped maintain strong generalization.\n",
        "\n"
      ],
      "metadata": {
        "id": "HRWXaJI13QL6"
      }
    },
    {
      "cell_type": "code",
      "source": [
        "from sklearn.model_selection import GridSearchCV, KFold\n",
        "\n",
        "param_RIDGE = {\n",
        "    'alpha': [0.001, 0.01, 0.1, 1, 5, 10, 15, 100]\n",
        "}\n",
        "\n",
        "cv = KFold(n_splits = 5, shuffle=True, random_state=42)\n",
        "\n",
        "gridSearch = GridSearchCV(estimator = rdg, param_grid = param_RIDGE, cv = cv, scoring = 'r2', verbose = 2, n_jobs = -1)\n",
        "gridSearch.fit(X_train, y_train)\n",
        "print(f\"Grid Parameters: {gridSearch.best_params_}\")\n",
        "print(f\"Grid R2 Score: {gridSearch.best_score_}\")\n"
      ],
      "metadata": {
        "colab": {
          "base_uri": "https://localhost:8080/"
        },
        "id": "24YXDcUf3rNO",
        "outputId": "d5cd9adc-4ea8-4976-cc7a-31ff31dccf25"
      },
      "execution_count": null,
      "outputs": [
        {
          "output_type": "stream",
          "name": "stdout",
          "text": [
            "Fitting 5 folds for each of 8 candidates, totalling 40 fits\n",
            "Grid Parameters: {'alpha': 5}\n",
            "Grid R2 Score: 0.8160000504429565\n"
          ]
        }
      ]
    },
    {
      "cell_type": "markdown",
      "source": [
        "Using parameter from GridSearch Alpha = 5"
      ],
      "metadata": {
        "id": "3P2xKl2t40-y"
      }
    },
    {
      "cell_type": "code",
      "source": [
        "rdg = Ridge(alpha = 5, random_state = 42)\n",
        "rdg.fit(X_train, y_train)\n",
        "\n",
        "y_pred = rdg.predict(X_test)\n",
        "r2_rdg = r2_score(y_test, y_pred)\n",
        "\n",
        "print(\"<-------------------------------------------------->\")\n",
        "print(f\"R2 score   : {r2_rdg}\")\n",
        "print(\"<-------------------------------------------------->\")\n",
        "print(f\"Train Score: {rdg.score(X_train, y_train)}\")\n",
        "print(f\"Test Score : {rdg.score(X_test, y_test)}\")"
      ],
      "metadata": {
        "colab": {
          "base_uri": "https://localhost:8080/"
        },
        "id": "Yd5K1yJ_4uha",
        "outputId": "503212c6-a503-459a-cdfc-e43833478c40"
      },
      "execution_count": null,
      "outputs": [
        {
          "output_type": "stream",
          "name": "stdout",
          "text": [
            "<-------------------------------------------------->\n",
            "R2 score   : 0.8786473302993462\n",
            "<-------------------------------------------------->\n",
            "Train Score: 0.8809424004271458\n",
            "Test Score : 0.8786473302993462\n"
          ]
        }
      ]
    },
    {
      "cell_type": "markdown",
      "source": [
        "* Increase in R2 score\n",
        "* Both scores are high and very close. Indicating great generalization with minimal overfitting or underfitting.\n",
        "\n",
        "\n",
        "Note: A close train vs test score means underfitting only when both scores are really low ~below 0.50"
      ],
      "metadata": {
        "id": "I9uLSIKB_-bw"
      }
    },
    {
      "cell_type": "markdown",
      "source": [
        "#### Lasso // L1 regularization\n",
        "\n"
      ],
      "metadata": {
        "id": "B2ysffjwN38D"
      }
    },
    {
      "cell_type": "code",
      "source": [
        "from sklearn.linear_model import Lasso\n",
        "from sklearn.metrics import r2_score\n",
        "\n",
        "las = Lasso(alpha = 0.01)\n",
        "las.fit(X_train, y_train)\n",
        "\n",
        "y_pred = las.predict(X_test)\n",
        "r2_las = r2_score(y_test, y_pred)\n",
        "\n",
        "print(\"<-------------------------------------------------->\")\n",
        "print(f\"R2 score   : {r2_las}\")\n",
        "print(\"<-------------------------------------------------->\")\n",
        "print(f\"Number of features used : {np.sum(las.coef_ != 0)}\")\n",
        "print(f\"Train Score: {las.score(X_train, y_train)}\")\n",
        "print(f\"Test Score : {las.score(X_test, y_test)}\")"
      ],
      "metadata": {
        "colab": {
          "base_uri": "https://localhost:8080/"
        },
        "id": "zl1tfF4_A2L8",
        "outputId": "9e8780ec-548a-44fb-855f-395137972bb6"
      },
      "execution_count": null,
      "outputs": [
        {
          "output_type": "stream",
          "name": "stdout",
          "text": [
            "<-------------------------------------------------->\n",
            "R2 score   : 0.8692034306059752\n",
            "<-------------------------------------------------->\n",
            "Number of features used : 183\n",
            "Train Score: 0.8975026352058115\n",
            "Test Score : 0.8692034306059752\n"
          ]
        },
        {
          "output_type": "stream",
          "name": "stderr",
          "text": [
            "/usr/local/lib/python3.10/dist-packages/sklearn/linear_model/_coordinate_descent.py:695: ConvergenceWarning: Objective did not converge. You might want to increase the number of iterations, check the scale of the features or consider increasing regularisation. Duality gap: 6.828e+11, tolerance: 1.332e+09\n",
            "  model = cd_fast.enet_coordinate_descent(\n"
          ]
        }
      ]
    },
    {
      "cell_type": "markdown",
      "source": [
        "\n",
        "\n",
        "*   High R2 score which says that the model explains a large proportion of the variance in the data.\n",
        "*   Alpha 0.01 with Lasso regression gives a strong performance with minimal overfitting.\n",
        "\n"
      ],
      "metadata": {
        "id": "tLP1rI2hBzmI"
      }
    },
    {
      "cell_type": "code",
      "source": [
        "from sklearn.model_selection import GridSearchCV, KFold\n",
        "\n",
        "param_LASSO = {\n",
        "    'alpha': [0.001, 0.01, 0.1, 1, 10, 100]\n",
        "}\n",
        "\n",
        "#notice random_state to keep same shuffle as train_test_split\n",
        "cv = KFold(n_splits = 5, shuffle=True, random_state=42)\n",
        "\n",
        "gridSearch = GridSearchCV(estimator = las, param_grid = param_LASSO, cv = cv, scoring = 'r2', verbose = 2, n_jobs = -1)\n",
        "gridSearch.fit(X_train, y_train)\n",
        "print(f\"Grid Parameters: {gridSearch.best_params_}\")\n",
        "print(f\"Grid R2 Score: {gridSearch.best_score_}\")\n"
      ],
      "metadata": {
        "colab": {
          "base_uri": "https://localhost:8080/"
        },
        "id": "3QGSY-q9Cp4w",
        "outputId": "de761cf9-0589-4356-f25d-0b41996925f7"
      },
      "execution_count": null,
      "outputs": [
        {
          "output_type": "stream",
          "name": "stdout",
          "text": [
            "Fitting 5 folds for each of 6 candidates, totalling 30 fits\n",
            "Grid Parameters: {'alpha': 100}\n",
            "Grid R2 Score: 0.8208619955233096\n"
          ]
        }
      ]
    },
    {
      "cell_type": "markdown",
      "source": [
        "Using the suggested alpha 100 from GridSearch"
      ],
      "metadata": {
        "id": "s2UuZ_UlDCcp"
      }
    },
    {
      "cell_type": "code",
      "source": [
        "las = Ridge(alpha = 100, random_state = 42)\n",
        "las.fit(X_train, y_train)\n",
        "\n",
        "y_pred = las.predict(X_test)\n",
        "r2_las = r2_score(y_test, y_pred)\n",
        "\n",
        "print(\"<-------------------------------------------------->\")\n",
        "print(f\"R2 score   : {r2_las}\")\n",
        "print(\"<-------------------------------------------------->\")\n",
        "print(f\"Number of features used : {np.sum(las.coef_ != 0)}\")\n",
        "print(f\"Train Score: {las.score(X_train, y_train)}\")\n",
        "print(f\"Test Score : {las.score(X_test, y_test)}\")"
      ],
      "metadata": {
        "colab": {
          "base_uri": "https://localhost:8080/"
        },
        "id": "L7h4T6-BDCN4",
        "outputId": "f5d0ba6d-76d1-4b9e-ddd3-f9470ee2714d"
      },
      "execution_count": null,
      "outputs": [
        {
          "output_type": "stream",
          "name": "stdout",
          "text": [
            "<-------------------------------------------------->\n",
            "R2 score   : 0.8712568033185344\n",
            "<-------------------------------------------------->\n",
            "Number of features used : 189\n",
            "Train Score: 0.8571991455154555\n",
            "Test Score : 0.8712568033185344\n"
          ]
        }
      ]
    },
    {
      "cell_type": "markdown",
      "source": [
        "* Increase in R2 score (Explanation of variance on all data)\n",
        "\n",
        "* Increase in Test score(Good generalization on unseen data)"
      ],
      "metadata": {
        "id": "W6-31N6pRlDb"
      }
    },
    {
      "cell_type": "markdown",
      "source": [
        "### K-Nearest Neighbors (KNN) Regression\n"
      ],
      "metadata": {
        "id": "9ovU4Wlbe8Zc"
      }
    },
    {
      "cell_type": "code",
      "source": [
        "from sklearn.neighbors import KNeighborsRegressor\n",
        "from sklearn.metrics import r2_score\n",
        "\n",
        "knn = KNeighborsRegressor(n_neighbors=1, metric='euclidean')\n",
        "knn.fit(X_train, y_train)\n",
        "\n",
        "y_pred = knn.predict(X_test)\n",
        "r2_knn = r2_score(y_test, y_pred)\n",
        "\n",
        "print(\"<-------------------------------------------------->\")\n",
        "print(f\"R2 score   : {r2_knn}\")\n",
        "print(\"<-------------------------------------------------->\")\n",
        "print(f\"Train Score: {knn.score(X_train, y_train)}\")\n",
        "print(f\"Test Score : {knn.score(X_test, y_test)}\")"
      ],
      "metadata": {
        "colab": {
          "base_uri": "https://localhost:8080/"
        },
        "id": "BdRpAMgxTRcn",
        "outputId": "d707bc03-412f-44e8-b8bf-24a904dd36b1"
      },
      "execution_count": null,
      "outputs": [
        {
          "output_type": "stream",
          "name": "stdout",
          "text": [
            "<-------------------------------------------------->\n",
            "R2 score   : 0.6374411401304041\n",
            "<-------------------------------------------------->\n",
            "Train Score: 0.9999939096205105\n",
            "Test Score : 0.6374411401304041\n"
          ]
        }
      ]
    },
    {
      "cell_type": "markdown",
      "source": [
        "\n",
        "\n",
        "*   Very low R2 score, indicates that the model doesn't explain the variance in data.\n",
        "*   Very high training score and very low test score means an outstanding amount of overfitting with really bad generalization.\n",
        "\n"
      ],
      "metadata": {
        "id": "I8OAs1vkUeov"
      }
    },
    {
      "cell_type": "code",
      "source": [
        "from sklearn.model_selection import GridSearchCV, KFold\n",
        "\n",
        "param_KNN = {\n",
        "    'n_neighbors': [1, 2, 3, 4, 5, 6, 7, 8, 9],\n",
        "    'metric': ['euclidean', 'manhattan']\n",
        "}\n",
        "\n",
        "#notice random_state to keep same shuffle as train_test_split\n",
        "cv = KFold(n_splits = 5, shuffle=True, random_state=42)\n",
        "\n",
        "gridSearch = GridSearchCV(estimator = knn, param_grid = param_KNN, cv = cv, scoring = 'r2', verbose = 2, n_jobs = -1)\n",
        "gridSearch.fit(X_train, y_train)\n",
        "print(f\"Grid Parameters: {gridSearch.best_params_}\")\n",
        "print(f\"Grid R2 Score: {gridSearch.best_score_}\")\n"
      ],
      "metadata": {
        "colab": {
          "base_uri": "https://localhost:8080/"
        },
        "id": "r7IbmMRTUNAj",
        "outputId": "e7b12412-526d-4bf9-9356-320bd26aaa04"
      },
      "execution_count": null,
      "outputs": [
        {
          "output_type": "stream",
          "name": "stdout",
          "text": [
            "Fitting 5 folds for each of 18 candidates, totalling 90 fits\n",
            "Grid Parameters: {'metric': 'manhattan', 'n_neighbors': 6}\n",
            "Grid R2 Score: 0.7397834257249858\n"
          ]
        }
      ]
    },
    {
      "cell_type": "markdown",
      "source": [
        "Using suggested **'Manhattan'** distance metric and **6 Neighbours**"
      ],
      "metadata": {
        "id": "LRZ9E1hHXU1E"
      }
    },
    {
      "cell_type": "code",
      "source": [
        "from sklearn.neighbors import KNeighborsRegressor\n",
        "from sklearn.metrics import r2_score\n",
        "\n",
        "knn = KNeighborsRegressor(n_neighbors=6, metric='manhattan')\n",
        "knn.fit(X_train, y_train)\n",
        "\n",
        "y_pred = knn.predict(X_test)\n",
        "r2_knn = r2_score(y_test, y_pred)\n",
        "\n",
        "print(\"<-------------------------------------------------->\")\n",
        "print(f\"R2 score   : {r2_knn}\")\n",
        "print(\"<-------------------------------------------------->\")\n",
        "print(f\"Train Score: {knn.score(X_train, y_train)}\")\n",
        "print(f\"Test Score : {knn.score(X_test, y_test)}\")"
      ],
      "metadata": {
        "colab": {
          "base_uri": "https://localhost:8080/"
        },
        "id": "Gv9skorbVxvU",
        "outputId": "0adcdbe0-1fb9-4f2d-dbd5-e2cea19678d8"
      },
      "execution_count": null,
      "outputs": [
        {
          "output_type": "stream",
          "name": "stdout",
          "text": [
            "<-------------------------------------------------->\n",
            "R2 score   : 0.8217359252727908\n",
            "<-------------------------------------------------->\n",
            "Train Score: 0.823187888808937\n",
            "Test Score : 0.8217359252727908\n"
          ]
        }
      ]
    },
    {
      "cell_type": "markdown",
      "source": [
        "* Great R2 sccore, explain most of the variance 82%\n",
        "\n",
        "* Train and test score have a really small gap.\n",
        "\n",
        "* Almost no overfitting\n",
        "\n",
        "* Generalizes really well"
      ],
      "metadata": {
        "id": "67sDG2Q5XLO4"
      }
    },
    {
      "cell_type": "markdown",
      "source": [
        "### Linear Support Vector Regression (SVR)"
      ],
      "metadata": {
        "id": "i6JOjGEwgM0E"
      }
    },
    {
      "cell_type": "code",
      "source": [
        "from sklearn.svm import LinearSVR\n",
        "from sklearn.metrics import r2_score\n",
        "\n",
        "lsvr = LinearSVR(C = 0.001)\n",
        "lsvr.fit(X_train, y_train)\n",
        "\n",
        "\n",
        "r2 = r2_score(y_test, y_pred)\n",
        "\n",
        "print(\"---------------------------------------------------\")\n",
        "print(f\"R squared score    : {r2}\")\n",
        "print(\"---------------------------------------------------\")\n",
        "print(f\"Train Score: {lsvr.score(X_train, y_train)}\")\n",
        "print(f\"Test Score: {lsvr.score(X_test, y_test)}\")"
      ],
      "metadata": {
        "colab": {
          "base_uri": "https://localhost:8080/"
        },
        "id": "82noU_zfgMAp",
        "outputId": "27130fb8-c17e-4b41-8a4a-63097d2b51b1"
      },
      "execution_count": null,
      "outputs": [
        {
          "output_type": "stream",
          "name": "stdout",
          "text": [
            "---------------------------------------------------\n",
            "R squared score    : 0.8194976919101816\n",
            "---------------------------------------------------\n",
            "Train Score: 0.6038593609413387\n",
            "Test Score: 0.6669803033539871\n"
          ]
        }
      ]
    },
    {
      "cell_type": "markdown",
      "source": [
        "Very close small Test & train scores indicate clear underfititng"
      ],
      "metadata": {
        "id": "MAaD9WZBb8CM"
      }
    },
    {
      "cell_type": "code",
      "source": [
        "from sklearn.model_selection import GridSearchCV, KFold\n",
        "\n",
        "param_LSVR = {\n",
        "    'C': [0.1, 1, 10, 100],\n",
        "    'max_iter': [1000, 10000, 20000, 100000]\n",
        "}\n",
        "\n",
        "#notice random_state to keep same shuffle as train_test_split\n",
        "cv = KFold(n_splits = 5, shuffle=True, random_state=42)\n",
        "\n",
        "gridSearch = GridSearchCV(estimator = lsvr, param_grid = param_LSVR, cv = cv, scoring = 'r2', verbose = 2, n_jobs = -1)\n",
        "gridSearch.fit(X_train, y_train)\n",
        "print(f\"Grid Parameters: {gridSearch.best_params_}\")\n",
        "print(f\"Grid R2 Score: {gridSearch.best_score_}\")\n"
      ],
      "metadata": {
        "colab": {
          "base_uri": "https://localhost:8080/"
        },
        "id": "01zKcPOObzsr",
        "outputId": "58909216-d6fb-4f31-9dee-b700e1a18fc1"
      },
      "execution_count": null,
      "outputs": [
        {
          "output_type": "stream",
          "name": "stdout",
          "text": [
            "Fitting 5 folds for each of 16 candidates, totalling 80 fits\n",
            "Grid Parameters: {'C': 100, 'max_iter': 100000}\n",
            "Grid R2 Score: 0.8044979807684747\n"
          ]
        },
        {
          "output_type": "stream",
          "name": "stderr",
          "text": [
            "/usr/local/lib/python3.10/dist-packages/sklearn/svm/_base.py:1243: ConvergenceWarning: Liblinear failed to converge, increase the number of iterations.\n",
            "  warnings.warn(\n"
          ]
        }
      ]
    },
    {
      "cell_type": "markdown",
      "source": [
        "LinearSVR demands high iteration\n",
        "\n",
        "\n",
        "which needs high computaion time.\n",
        "So we're limiting it to these."
      ],
      "metadata": {
        "id": "B52HSak7e6uM"
      }
    },
    {
      "cell_type": "code",
      "source": [
        "lsvr = LinearSVR(C = 100, max_iter=100000)\n",
        "lsvr.fit(X_train, y_train)\n",
        "\n",
        "\n",
        "r2 = r2_score(y_test, y_pred)\n",
        "\n",
        "print(\"---------------------------------------------------\")\n",
        "print(f\"R squared score    : {r2}\")\n",
        "print(\"---------------------------------------------------\")\n",
        "print(f\"Train Score: {lsvr.score(X_train, y_train)}\")\n",
        "print(f\"Test Score: {lsvr.score(X_test, y_test)}\")"
      ],
      "metadata": {
        "colab": {
          "base_uri": "https://localhost:8080/"
        },
        "id": "A0R_Dp7JE93c",
        "outputId": "7716213a-0fc6-4d71-b758-a0240df155c9"
      },
      "execution_count": null,
      "outputs": [
        {
          "output_type": "stream",
          "name": "stdout",
          "text": [
            "---------------------------------------------------\n",
            "R squared score    : 0.8194976919101816\n",
            "---------------------------------------------------\n",
            "Train Score: 0.8172426939461703\n",
            "Test Score: 0.8319559367466461\n"
          ]
        },
        {
          "output_type": "stream",
          "name": "stderr",
          "text": [
            "/usr/local/lib/python3.10/dist-packages/sklearn/svm/_base.py:1243: ConvergenceWarning: Liblinear failed to converge, increase the number of iterations.\n",
            "  warnings.warn(\n"
          ]
        }
      ]
    },
    {
      "cell_type": "markdown",
      "source": [
        "Great R2 score of [0.82]\n",
        "\n",
        "\n",
        "and a really close high train & test scores indicating a great generalization"
      ],
      "metadata": {
        "id": "j_xsyVkPWF4e"
      }
    },
    {
      "cell_type": "markdown",
      "source": [
        "### Decision Tree Regression"
      ],
      "metadata": {
        "id": "eikOFZIdFpXZ"
      }
    },
    {
      "cell_type": "code",
      "source": [
        "from sklearn.tree import DecisionTreeRegressor\n",
        "from sklearn.metrics import r2_score\n",
        "\n",
        "dtr = DecisionTreeRegressor(max_depth=50, max_features=None, max_leaf_nodes=None, min_samples_leaf=10, min_samples_split=5)\n",
        "dtr.fit(X_train, y_train)\n",
        "\n",
        "\n",
        "r2 = r2_score(y_test, y_pred)\n",
        "\n",
        "print(\"---------------------------------------------------\")\n",
        "print(f\"R squared score    : {r2}\")\n",
        "print(\"---------------------------------------------------\")\n",
        "print(f\"Train Score: {dtr.score(X_train, y_train)}\")\n",
        "print(f\"Test Score: {dtr.score(X_test, y_test)}\")"
      ],
      "metadata": {
        "colab": {
          "base_uri": "https://localhost:8080/"
        },
        "id": "Qd9Oxg2jfdo9",
        "outputId": "be5c383c-2bdd-4fb8-ae87-5de0efce803f"
      },
      "execution_count": null,
      "outputs": [
        {
          "output_type": "stream",
          "name": "stdout",
          "text": [
            "---------------------------------------------------\n",
            "R squared score    : 0.8194976919101816\n",
            "---------------------------------------------------\n",
            "Train Score: 0.8965332910380922\n",
            "Test Score: 0.8604100270184984\n"
          ]
        }
      ]
    },
    {
      "cell_type": "markdown",
      "source": [
        "\n",
        "\n",
        "*   High R2 score\n",
        "*   Close training & test scores while being hight at the same time.\n",
        "Great generalization\n",
        "\n"
      ],
      "metadata": {
        "id": "9_Oh3GmCgL4I"
      }
    },
    {
      "cell_type": "code",
      "source": [
        "from sklearn.model_selection import GridSearchCV, KFold\n",
        "#max_depth max level of tree\n",
        "#max_features none = all features used, sqrt(of total number of features), log2(of total number of features)\n",
        "#max_leaf_nodes caps total number of leaf nodes\n",
        "#min_samples_split min number of samples required to split a node\n",
        "#min_samples_leaf min samples in a leaf node\n",
        "param_DTR = {\n",
        "    'max_depth': [None, 5, 10, 20, 50],\n",
        "    'max_features': [None, 'sqrt', 'log2'],\n",
        "    'max_leaf_nodes': [None, 5, 10, 20, 50],\n",
        "    'min_samples_split': [2, 5, 10],\n",
        "    'min_samples_leaf': [1, 2, 3, 4, 5],\n",
        "}\n",
        "\n",
        "#notice random_state to keep same shuffle as train_test_split\n",
        "cv = KFold(n_splits = 5, shuffle=True, random_state=42)\n",
        "\n",
        "gridSearch = GridSearchCV(estimator = dtr, param_grid = param_DTR, cv = cv, scoring = 'r2', verbose = 2, n_jobs = -1)\n",
        "gridSearch.fit(X_train, y_train)\n",
        "print(f\"Grid Parameters: {gridSearch.best_params_}\")\n",
        "print(f\"Grid R2 Score: {gridSearch.best_score_}\")\n"
      ],
      "metadata": {
        "colab": {
          "base_uri": "https://localhost:8080/"
        },
        "id": "BFvDot5SgLoU",
        "outputId": "989f40ed-da28-4b96-9e14-105db459e60d"
      },
      "execution_count": null,
      "outputs": [
        {
          "output_type": "stream",
          "name": "stdout",
          "text": [
            "Fitting 5 folds for each of 1125 candidates, totalling 5625 fits\n",
            "Grid Parameters: {'max_depth': 10, 'max_features': None, 'max_leaf_nodes': None, 'min_samples_leaf': 2, 'min_samples_split': 10}\n",
            "Grid R2 Score: 0.7907385600047283\n"
          ]
        }
      ]
    },
    {
      "cell_type": "code",
      "source": [
        "dtr = DecisionTreeRegressor(max_depth=10, max_features=None, max_leaf_nodes=None, min_samples_leaf=2, min_samples_split=10)\n",
        "dtr.fit(X_train, y_train)\n",
        "\n",
        "\n",
        "r2 = r2_score(y_test, y_pred)\n",
        "\n",
        "print(\"---------------------------------------------------\")\n",
        "print(f\"R squared score    : {r2}\")\n",
        "print(\"---------------------------------------------------\")\n",
        "print(f\"Train Score: {dtr.score(X_train, y_train)}\")\n",
        "print(f\"Test Score: {dtr.score(X_test, y_test)}\")"
      ],
      "metadata": {
        "colab": {
          "base_uri": "https://localhost:8080/"
        },
        "id": "YKq2YQeehBld",
        "outputId": "4dcc4ad2-6e6c-4150-c2a1-818fff4f6a38"
      },
      "execution_count": null,
      "outputs": [
        {
          "output_type": "stream",
          "name": "stdout",
          "text": [
            "---------------------------------------------------\n",
            "R squared score    : 0.8194976919101816\n",
            "---------------------------------------------------\n",
            "Train Score: 0.9561539456687029\n",
            "Test Score: 0.7949912943825466\n"
          ]
        }
      ]
    },
    {
      "cell_type": "markdown",
      "source": [
        "Same R2 score\n",
        "* Test score remained around the same score\n",
        "\n",
        "* Indication of overfitting, need to include more values in gridsearch to find a better result."
      ],
      "metadata": {
        "id": "vvt8x-irk2eq"
      }
    },
    {
      "cell_type": "markdown",
      "source": [
        "### Random Forest"
      ],
      "metadata": {
        "id": "F3k1r1mufEAI"
      }
    },
    {
      "cell_type": "code",
      "source": [
        "#Hyper Parameters\n",
        "#n_estimators number of descision trees being used\n",
        "#max_features number of features being used\n",
        "#max_depth max level of each tree\n",
        "from sklearn.ensemble import RandomForestRegressor\n",
        "\n",
        "rfr = RandomForestRegressor(n_estimators=50, max_features = None, max_depth = 15)\n",
        "rfr.fit(X_train, y_train)\n",
        "\n",
        "\n",
        "r2 = r2_score(y_test, y_pred)\n",
        "\n",
        "print(\"---------------------------------------------------\")\n",
        "print(f\"R squared score        : {r2}\")\n",
        "print(\"---------------------------------------------------\")\n",
        "print(f\"Train Score: {rfr.score(X_train, y_train)}\")\n",
        "print(f\"Test Score: {rfr.score(X_test, y_test)}\")"
      ],
      "metadata": {
        "colab": {
          "base_uri": "https://localhost:8080/"
        },
        "id": "xcHVcZStNYlf",
        "outputId": "88f8d512-5213-4ef6-ecf5-329020d19e2a"
      },
      "execution_count": null,
      "outputs": [
        {
          "output_type": "stream",
          "name": "stdout",
          "text": [
            "---------------------------------------------------\n",
            "R squared score        : 0.8194976919101816\n",
            "---------------------------------------------------\n",
            "Train Score: 0.9824419064626604\n",
            "Test Score: 0.9188807697551953\n"
          ]
        }
      ]
    },
    {
      "cell_type": "markdown",
      "source": [
        "High Train & Test scores indicate great generalization score\n",
        "\n",
        "R2 score is a little low, needs increasing."
      ],
      "metadata": {
        "id": "jlvLSugnlT2u"
      }
    },
    {
      "cell_type": "code",
      "source": [
        "#max_features\n",
        "#None: Use all features\n",
        "#sqrt: sqrt of total features\n",
        "#log: use base log2 of all features\n",
        "from sklearn.model_selection import GridSearchCV, KFold\n",
        "\n",
        "\n",
        "#notice random_state to keep same shuffle as train_test_split\n",
        "cv = KFold(n_splits = 5, shuffle=True, random_state=42)\n",
        "\n",
        "param_RFR = {\n",
        "    'n_estimators': [100, 200, 300],\n",
        "    'max_depth': [10, 30, 50],\n",
        "    'max_features': [None, 'sqrt', 'log2']\n",
        "}\n",
        "\n",
        "\n",
        "gridSearch = GridSearchCV(estimator = rfr, param_grid = param_RFR, cv = cv, scoring = 'r2', verbose = 2, n_jobs = -1)\n",
        "gridSearch.fit(X_train, y_train)\n",
        "print(f\"Grid Parameters: {gridSearch.best_params_}\")\n",
        "print(f\"Grid R2 Score: {gridSearch.best_score_}\")"
      ],
      "metadata": {
        "colab": {
          "base_uri": "https://localhost:8080/"
        },
        "id": "Fxl-7lYve6Er",
        "outputId": "098802da-d381-4689-ff0b-bb1e4b8cdabf"
      },
      "execution_count": null,
      "outputs": [
        {
          "output_type": "stream",
          "name": "stdout",
          "text": [
            "Fitting 5 folds for each of 27 candidates, totalling 135 fits\n",
            "Grid Parameters: {'max_depth': 30, 'max_features': 'sqrt', 'n_estimators': 200}\n",
            "Grid R2 Score: 0.863370206832869\n"
          ]
        }
      ]
    },
    {
      "cell_type": "markdown",
      "source": [
        "Using the same model again with the 'best params' from GridSearch"
      ],
      "metadata": {
        "id": "P7n20YKYu1zt"
      }
    },
    {
      "cell_type": "code",
      "source": [
        "from sklearn.ensemble import RandomForestRegressor\n",
        "\n",
        "rfr = RandomForestRegressor(n_estimators=200, max_features = 'sqrt', max_depth = 30, random_state=42)\n",
        "rfr.fit(X_train, y_train)\n",
        "\n",
        "y_pred = rfr.predict(X_test)\n",
        "r2 = r2_score(y_test, y_pred)\n",
        "\n",
        "print(\"---------------------------------------------------\")\n",
        "print(f\"R2 score        : {r2}\")\n",
        "print(\"---------------------------------------------------\")\n",
        "print(f\"Train Score: {rfr.score(X_train, y_train)}\")\n",
        "print(f\"Test Score: {rfr.score(X_test, y_test)}\")"
      ],
      "metadata": {
        "colab": {
          "base_uri": "https://localhost:8080/"
        },
        "id": "B-DfBcYguzDI",
        "outputId": "2bb59691-be12-4757-f8a4-e6def90ae475"
      },
      "execution_count": null,
      "outputs": [
        {
          "output_type": "stream",
          "name": "stdout",
          "text": [
            "---------------------------------------------------\n",
            "R squared score        : 0.9029438903355597\n",
            "---------------------------------------------------\n",
            "Train Score: 0.981614945067909\n",
            "Test Score: 0.9029438903355597\n"
          ]
        }
      ]
    },
    {
      "cell_type": "markdown",
      "source": [
        "A small hit to the test score while maintaining good regularization.\n",
        "\n",
        "Increased R2 score to an accepetable score."
      ],
      "metadata": {
        "id": "ODfHJEW7qzn2"
      }
    }
  ]
}